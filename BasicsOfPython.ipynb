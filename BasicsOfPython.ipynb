{
 "cells": [
  {
   "cell_type": "raw",
   "id": "3716c57c-fc76-492a-b9e8-5d5a0963fd30",
   "metadata": {},
   "source": [
    "Python Basics WorkBook"
   ]
  },
  {
   "cell_type": "code",
   "execution_count": 1,
   "id": "fb260810-ab13-46a7-b31a-bd36e1776f7f",
   "metadata": {},
   "outputs": [
    {
     "name": "stdout",
     "output_type": "stream",
     "text": [
      "Hello,World!\n"
     ]
    }
   ],
   "source": [
    "print(\"Hello,World!\")"
   ]
  },
  {
   "cell_type": "markdown",
   "id": "1872d729-5933-42f0-af0f-54375aa30ce9",
   "metadata": {},
   "source": [
    "BASICS"
   ]
  },
  {
   "cell_type": "code",
   "execution_count": 2,
   "id": "8e5e2a5b-891c-48f3-8975-d7536f5a8718",
   "metadata": {},
   "outputs": [
    {
     "data": {
      "text/plain": [
       "0.6666666666666666"
      ]
     },
     "execution_count": 2,
     "metadata": {},
     "output_type": "execute_result"
    }
   ],
   "source": [
    "#Python as a calculator\n",
    "2+3\n",
    "2*3\n",
    "2/3"
   ]
  },
  {
   "cell_type": "code",
   "execution_count": 3,
   "id": "a02487e8-f248-495c-9efb-f7858f305847",
   "metadata": {},
   "outputs": [
    {
     "data": {
      "text/plain": [
       "5"
      ]
     },
     "execution_count": 3,
     "metadata": {},
     "output_type": "execute_result"
    }
   ],
   "source": [
    "2+3"
   ]
  },
  {
   "cell_type": "code",
   "execution_count": 4,
   "id": "caa69913-94b4-4ef0-830b-e70c85b76f74",
   "metadata": {},
   "outputs": [
    {
     "data": {
      "text/plain": [
       "6"
      ]
     },
     "execution_count": 4,
     "metadata": {},
     "output_type": "execute_result"
    }
   ],
   "source": [
    "2*3"
   ]
  },
  {
   "cell_type": "code",
   "execution_count": 5,
   "id": "b86bbdcb-16f3-40f3-bcf4-1c9935daab05",
   "metadata": {},
   "outputs": [
    {
     "data": {
      "text/plain": [
       "-1"
      ]
     },
     "execution_count": 5,
     "metadata": {},
     "output_type": "execute_result"
    }
   ],
   "source": [
    "2-3"
   ]
  },
  {
   "cell_type": "markdown",
   "id": "486234e5-6711-43ac-b6e0-32ffc40ffa32",
   "metadata": {},
   "source": [
    "1.Comments"
   ]
  },
  {
   "cell_type": "code",
   "execution_count": 8,
   "id": "49339045-f3da-4b4b-9ed4-ecd89ab7003f",
   "metadata": {},
   "outputs": [
    {
     "data": {
      "text/plain": [
       "' Multiple\\nline \\nComments'"
      ]
     },
     "execution_count": 8,
     "metadata": {},
     "output_type": "execute_result"
    }
   ],
   "source": [
    "#Single Line Comment\n",
    "\"\"\" Multiple\n",
    "line \n",
    "Comments\"\"\""
   ]
  },
  {
   "cell_type": "markdown",
   "id": "64c3f03c-69a4-4b57-9e08-a453d3d03f6c",
   "metadata": {},
   "source": [
    "2.Variables"
   ]
  },
  {
   "cell_type": "code",
   "execution_count": 9,
   "id": "c6557ae9-d95b-4e15-bea7-dc01249881bd",
   "metadata": {},
   "outputs": [],
   "source": [
    "Name=\"Pavan\"\n",
    "Age=\"24\"\n",
    "Percentile=\"94.12\""
   ]
  },
  {
   "cell_type": "code",
   "execution_count": 10,
   "id": "83fef7c6-ac93-44f8-8d0c-a7a105aa3679",
   "metadata": {},
   "outputs": [
    {
     "name": "stdout",
     "output_type": "stream",
     "text": [
      "Pavan\n",
      "24\n",
      "94.12\n"
     ]
    }
   ],
   "source": [
    "print(Name)\n",
    "print(Age)\n",
    "print(Percentile)"
   ]
  },
  {
   "cell_type": "code",
   "execution_count": 11,
   "id": "c7465b3b-d7d6-497b-9c97-6ab7ea99beee",
   "metadata": {},
   "outputs": [],
   "source": [
    "#To delete a variable\n",
    "del Age,Percentile"
   ]
  },
  {
   "cell_type": "code",
   "execution_count": 12,
   "id": "1f17d2c7-8193-46bd-b04d-7c907c2c766a",
   "metadata": {},
   "outputs": [
    {
     "name": "stdout",
     "output_type": "stream",
     "text": [
      "Pavan\n"
     ]
    },
    {
     "ename": "NameError",
     "evalue": "name 'Age' is not defined",
     "output_type": "error",
     "traceback": [
      "\u001b[1;31m---------------------------------------------------------------------------\u001b[0m",
      "\u001b[1;31mNameError\u001b[0m                                 Traceback (most recent call last)",
      "Cell \u001b[1;32mIn[12], line 2\u001b[0m\n\u001b[0;32m      1\u001b[0m \u001b[38;5;28mprint\u001b[39m(Name)\n\u001b[1;32m----> 2\u001b[0m \u001b[38;5;28mprint\u001b[39m(\u001b[43mAge\u001b[49m)\n\u001b[0;32m      3\u001b[0m \u001b[38;5;28mprint\u001b[39m(Percentile)\n",
      "\u001b[1;31mNameError\u001b[0m: name 'Age' is not defined"
     ]
    }
   ],
   "source": [
    "print(Name)\n",
    "print(Age)\n",
    "print(Percentile)"
   ]
  },
  {
   "cell_type": "code",
   "execution_count": 13,
   "id": "30101930-4b32-4ef0-81e2-c34215ebd259",
   "metadata": {},
   "outputs": [
    {
     "name": "stdout",
     "output_type": "stream",
     "text": [
      "10 10 10\n"
     ]
    }
   ],
   "source": [
    "A=B=C=10\n",
    "print(A,B,C)"
   ]
  },
  {
   "cell_type": "code",
   "execution_count": 14,
   "id": "87995a2c-648f-4864-bb8f-b0ee7e0f6d84",
   "metadata": {},
   "outputs": [
    {
     "ename": "TypeError",
     "evalue": "cannot unpack non-iterable int object",
     "output_type": "error",
     "traceback": [
      "\u001b[1;31m---------------------------------------------------------------------------\u001b[0m",
      "\u001b[1;31mTypeError\u001b[0m                                 Traceback (most recent call last)",
      "Cell \u001b[1;32mIn[14], line 1\u001b[0m\n\u001b[1;32m----> 1\u001b[0m A,B,C\u001b[38;5;241m=\u001b[39m\u001b[38;5;241m10\u001b[39m\n\u001b[0;32m      2\u001b[0m \u001b[38;5;28mprint\u001b[39m(A,B,C)\n",
      "\u001b[1;31mTypeError\u001b[0m: cannot unpack non-iterable int object"
     ]
    }
   ],
   "source": [
    "A,B,C=10\n",
    "print(A,B,C)"
   ]
  },
  {
   "cell_type": "code",
   "execution_count": 15,
   "id": "08a0e6d8-4b97-4238-89e2-5a24f5c8874b",
   "metadata": {
    "scrolled": true
   },
   "outputs": [
    {
     "name": "stdout",
     "output_type": "stream",
     "text": [
      "10 10 10\n"
     ]
    }
   ],
   "source": [
    "A,B,C=10,10,10\n",
    "print(A,B,C)"
   ]
  },
  {
   "cell_type": "code",
   "execution_count": 16,
   "id": "12d305f1-89ca-4b63-a2d2-5bfa1919daf6",
   "metadata": {},
   "outputs": [],
   "source": [
    "A,B,C=1,10.19,\"ABCD\""
   ]
  },
  {
   "cell_type": "code",
   "execution_count": 17,
   "id": "3dbc14eb-b823-4578-9c20-efb61853bc58",
   "metadata": {},
   "outputs": [
    {
     "name": "stdout",
     "output_type": "stream",
     "text": [
      "1\n",
      "10.19 ABCD\n"
     ]
    }
   ],
   "source": [
    "print(A)\n",
    "print(B,C)"
   ]
  },
  {
   "cell_type": "code",
   "execution_count": 18,
   "id": "1acc2ee8-f56f-4ef4-899e-3c5dbd18a94c",
   "metadata": {},
   "outputs": [
    {
     "ename": "SyntaxError",
     "evalue": "invalid decimal literal (512905976.py, line 1)",
     "output_type": "error",
     "traceback": [
      "\u001b[1;36m  Cell \u001b[1;32mIn[18], line 1\u001b[1;36m\u001b[0m\n\u001b[1;33m    1A=\"Hello\"\u001b[0m\n\u001b[1;37m    ^\u001b[0m\n\u001b[1;31mSyntaxError\u001b[0m\u001b[1;31m:\u001b[0m invalid decimal literal\n"
     ]
    }
   ],
   "source": [
    "1A=\"Hello\""
   ]
  },
  {
   "cell_type": "code",
   "execution_count": 19,
   "id": "5733d788-73c2-41e8-bed1-6ff677696f35",
   "metadata": {},
   "outputs": [],
   "source": [
    "A1=\"Hello\""
   ]
  },
  {
   "cell_type": "code",
   "execution_count": 20,
   "id": "4b38dec3-ce74-49b0-b2b5-af472e8f4fbd",
   "metadata": {},
   "outputs": [
    {
     "name": "stdout",
     "output_type": "stream",
     "text": [
      "Hello\n"
     ]
    }
   ],
   "source": [
    "print(A1)"
   ]
  },
  {
   "cell_type": "raw",
   "id": "f20d1507-b15f-4a7b-a7d0-de560452d985",
   "metadata": {},
   "source": [
    "# How to write Constants"
   ]
  },
  {
   "cell_type": "code",
   "execution_count": 21,
   "id": "1059bb7c-d6dc-4f2e-8696-0c20dbf5a154",
   "metadata": {},
   "outputs": [],
   "source": [
    "PI_VALUE = 3.14\n",
    "#it is the standard Notation"
   ]
  },
  {
   "cell_type": "raw",
   "id": "440b8399-3cbc-491e-aab0-9c4b551fe87d",
   "metadata": {},
   "source": [
    "Variables in C can be refered as Memory locations where as in Python they were considered as Objects.\n",
    "Python's Garbage collector mechanism frees up the memory occupied by unreferred Objects."
   ]
  },
  {
   "cell_type": "code",
   "execution_count": 22,
   "id": "c9325777-64ae-468e-8c73-a983cb89dea8",
   "metadata": {},
   "outputs": [
    {
     "data": {
      "text/plain": [
       "(1776745644560, 1776745644560)"
      ]
     },
     "execution_count": 22,
     "metadata": {},
     "output_type": "execute_result"
    }
   ],
   "source": [
    "a=b=10\n",
    "id(a),id(b)"
   ]
  },
  {
   "cell_type": "markdown",
   "id": "aa739eea-d655-416e-9688-5f56875dfa31",
   "metadata": {},
   "source": [
    "3.Variables"
   ]
  },
  {
   "cell_type": "code",
   "execution_count": 23,
   "id": "937ba6cf-7523-4c1f-8180-d7498bba35a0",
   "metadata": {},
   "outputs": [
    {
     "name": "stdout",
     "output_type": "stream",
     "text": [
      "<class 'int'> <class 'float'> <class 'str'>\n"
     ]
    }
   ],
   "source": [
    "a,b,c=1,2.9,\"ABC\"\n",
    "print(type(a),type(b),type(c))"
   ]
  },
  {
   "cell_type": "code",
   "execution_count": 24,
   "id": "35928795-78ee-4655-9eb4-164904cb5bbb",
   "metadata": {},
   "outputs": [
    {
     "ename": "TypeError",
     "evalue": "type.__new__() argument 1 must be str, not int",
     "output_type": "error",
     "traceback": [
      "\u001b[1;31m---------------------------------------------------------------------------\u001b[0m",
      "\u001b[1;31mTypeError\u001b[0m                                 Traceback (most recent call last)",
      "Cell \u001b[1;32mIn[24], line 1\u001b[0m\n\u001b[1;32m----> 1\u001b[0m \u001b[38;5;28;43mtype\u001b[39;49m\u001b[43m(\u001b[49m\u001b[43ma\u001b[49m\u001b[43m,\u001b[49m\u001b[43mb\u001b[49m\u001b[43m,\u001b[49m\u001b[43mc\u001b[49m\u001b[43m)\u001b[49m\n",
      "\u001b[1;31mTypeError\u001b[0m: type.__new__() argument 1 must be str, not int"
     ]
    }
   ],
   "source": [
    "type(a,b,c)"
   ]
  },
  {
   "cell_type": "code",
   "execution_count": 25,
   "id": "b92e7914-c8cb-4329-9cf6-cd776ff05c9c",
   "metadata": {},
   "outputs": [
    {
     "data": {
      "text/plain": [
       "int"
      ]
     },
     "execution_count": 25,
     "metadata": {},
     "output_type": "execute_result"
    }
   ],
   "source": [
    "type(a)"
   ]
  },
  {
   "cell_type": "code",
   "execution_count": 26,
   "id": "da61b89b-90a2-4d7b-b0f5-c6595d228da0",
   "metadata": {},
   "outputs": [
    {
     "data": {
      "text/plain": [
       "(float, str)"
      ]
     },
     "execution_count": 26,
     "metadata": {},
     "output_type": "execute_result"
    }
   ],
   "source": [
    "type(b),type(c)"
   ]
  },
  {
   "cell_type": "code",
   "execution_count": 27,
   "id": "0eacd3c5-1694-4b79-8064-3a5dd7dabb28",
   "metadata": {},
   "outputs": [
    {
     "data": {
      "text/plain": [
       "str"
      ]
     },
     "execution_count": 27,
     "metadata": {},
     "output_type": "execute_result"
    }
   ],
   "source": [
    "type(b);type(c)"
   ]
  },
  {
   "cell_type": "code",
   "execution_count": 28,
   "id": "026eb1b9-276f-403e-b978-8ead1106976e",
   "metadata": {},
   "outputs": [
    {
     "data": {
      "text/plain": [
       "bool"
      ]
     },
     "execution_count": 28,
     "metadata": {},
     "output_type": "execute_result"
    }
   ],
   "source": [
    "type(True)"
   ]
  },
  {
   "cell_type": "code",
   "execution_count": 30,
   "id": "10def05a-f6f8-40d5-80c9-ba0f2e6e3692",
   "metadata": {},
   "outputs": [
    {
     "data": {
      "text/plain": [
       "complex"
      ]
     },
     "execution_count": 30,
     "metadata": {},
     "output_type": "execute_result"
    }
   ],
   "source": [
    "type(20+1j)"
   ]
  },
  {
   "cell_type": "code",
   "execution_count": 31,
   "id": "02d22c95-184d-4e21-a678-22b648804899",
   "metadata": {},
   "outputs": [
    {
     "data": {
      "text/plain": [
       "'13'"
      ]
     },
     "execution_count": 31,
     "metadata": {},
     "output_type": "execute_result"
    }
   ],
   "source": [
    "#Type Casting\n",
    "a,b=\"1\",\"3\"\n",
    "a+b"
   ]
  },
  {
   "cell_type": "code",
   "execution_count": 32,
   "id": "ff5ea762-51df-4339-8d34-c786c15baa99",
   "metadata": {},
   "outputs": [
    {
     "data": {
      "text/plain": [
       "(str, str)"
      ]
     },
     "execution_count": 32,
     "metadata": {},
     "output_type": "execute_result"
    }
   ],
   "source": [
    "type(a),type(b)"
   ]
  },
  {
   "cell_type": "code",
   "execution_count": 33,
   "id": "6d011211-e906-434e-b255-27c9ba519823",
   "metadata": {},
   "outputs": [
    {
     "data": {
      "text/plain": [
       "4"
      ]
     },
     "execution_count": 33,
     "metadata": {},
     "output_type": "execute_result"
    }
   ],
   "source": [
    "int(a)+int(b)"
   ]
  },
  {
   "cell_type": "code",
   "execution_count": 34,
   "id": "ca594426-c3ec-4e30-b673-b66ed22d50f7",
   "metadata": {},
   "outputs": [
    {
     "data": {
      "text/plain": [
       "str"
      ]
     },
     "execution_count": 34,
     "metadata": {},
     "output_type": "execute_result"
    }
   ],
   "source": [
    "type(a)"
   ]
  },
  {
   "cell_type": "code",
   "execution_count": 35,
   "id": "95f49e83-9d11-4759-a20e-27e43d5a8159",
   "metadata": {},
   "outputs": [
    {
     "data": {
      "text/plain": [
       "int"
      ]
     },
     "execution_count": 35,
     "metadata": {},
     "output_type": "execute_result"
    }
   ],
   "source": [
    "type(int(a))"
   ]
  },
  {
   "cell_type": "markdown",
   "id": "5f90ae18-a818-446e-a024-4cff74ad24b4",
   "metadata": {},
   "source": [
    "4.STRINGS "
   ]
  },
  {
   "cell_type": "code",
   "execution_count": 36,
   "id": "0ab421c3-2df5-423f-85f0-74415c77f30e",
   "metadata": {},
   "outputs": [],
   "source": [
    "str=\"PAVAN KUMAR 1999\""
   ]
  },
  {
   "cell_type": "code",
   "execution_count": 37,
   "id": "368f4448-67a9-43f2-8ff5-df67e2bcc04c",
   "metadata": {},
   "outputs": [
    {
     "name": "stdout",
     "output_type": "stream",
     "text": [
      "PAVAN KUMAR 1999\n"
     ]
    }
   ],
   "source": [
    "type(str)\n",
    "print(str)"
   ]
  },
  {
   "cell_type": "code",
   "execution_count": 38,
   "id": "74f162f8-3c35-4798-956a-e9704ad61fa6",
   "metadata": {},
   "outputs": [
    {
     "data": {
      "text/plain": [
       "'P'"
      ]
     },
     "execution_count": 38,
     "metadata": {},
     "output_type": "execute_result"
    }
   ],
   "source": [
    "str[0]"
   ]
  },
  {
   "cell_type": "code",
   "execution_count": 39,
   "id": "39db5fb6-e311-429f-b647-a157f96a74e6",
   "metadata": {},
   "outputs": [
    {
     "data": {
      "text/plain": [
       "'PA'"
      ]
     },
     "execution_count": 39,
     "metadata": {},
     "output_type": "execute_result"
    }
   ],
   "source": [
    "str[0:2]"
   ]
  },
  {
   "cell_type": "code",
   "execution_count": 40,
   "id": "e4daa2c2-0d50-434d-8766-cbf41c0371de",
   "metadata": {},
   "outputs": [
    {
     "data": {
      "text/plain": [
       "'AN KUM'"
      ]
     },
     "execution_count": 40,
     "metadata": {},
     "output_type": "execute_result"
    }
   ],
   "source": [
    "str[3:9]"
   ]
  },
  {
   "cell_type": "code",
   "execution_count": 41,
   "id": "cae03308-3070-4b1f-90e1-e77cae82c3d5",
   "metadata": {},
   "outputs": [
    {
     "data": {
      "text/plain": [
       "'PAVAN KUM'"
      ]
     },
     "execution_count": 41,
     "metadata": {},
     "output_type": "execute_result"
    }
   ],
   "source": [
    "str[0:9]"
   ]
  },
  {
   "cell_type": "code",
   "execution_count": 42,
   "id": "a70025bc-d0d4-42a2-a373-45f601c443ee",
   "metadata": {},
   "outputs": [
    {
     "data": {
      "text/plain": [
       "'PAVAN KUM'"
      ]
     },
     "execution_count": 42,
     "metadata": {},
     "output_type": "execute_result"
    }
   ],
   "source": [
    "str[0:9:1]"
   ]
  },
  {
   "cell_type": "code",
   "execution_count": 43,
   "id": "d1ac3c82-ac77-41eb-b262-6fe06bd4dfef",
   "metadata": {},
   "outputs": [
    {
     "data": {
      "text/plain": [
       "'PVNKM'"
      ]
     },
     "execution_count": 43,
     "metadata": {},
     "output_type": "execute_result"
    }
   ],
   "source": [
    "str[0:9:2]"
   ]
  },
  {
   "cell_type": "code",
   "execution_count": 44,
   "id": "7ea0301a-b061-48db-a799-4b72818eb46d",
   "metadata": {},
   "outputs": [
    {
     "data": {
      "text/plain": [
       "'9'"
      ]
     },
     "execution_count": 44,
     "metadata": {},
     "output_type": "execute_result"
    }
   ],
   "source": [
    "str[-1]"
   ]
  },
  {
   "cell_type": "code",
   "execution_count": 45,
   "id": "3e4720eb-4e1c-4753-bafd-c55c2549cce6",
   "metadata": {},
   "outputs": [
    {
     "data": {
      "text/plain": [
       "'PVNKMR19'"
      ]
     },
     "execution_count": 45,
     "metadata": {},
     "output_type": "execute_result"
    }
   ],
   "source": [
    "str[::2]"
   ]
  },
  {
   "cell_type": "code",
   "execution_count": 46,
   "id": "93a385d5-030b-4e9c-a510-d1d5941aaf39",
   "metadata": {},
   "outputs": [
    {
     "data": {
      "text/plain": [
       "'99 AU AA'"
      ]
     },
     "execution_count": 46,
     "metadata": {},
     "output_type": "execute_result"
    }
   ],
   "source": [
    "str[::-2]"
   ]
  },
  {
   "cell_type": "code",
   "execution_count": 47,
   "id": "6f506d93-fd6e-4a7b-b88f-43f9240c3d21",
   "metadata": {},
   "outputs": [
    {
     "data": {
      "text/plain": [
       "'9991 RAMUK NAVAP'"
      ]
     },
     "execution_count": 47,
     "metadata": {},
     "output_type": "execute_result"
    }
   ],
   "source": [
    "str[::-1]"
   ]
  },
  {
   "cell_type": "code",
   "execution_count": 48,
   "id": "adb8dd16-768f-4cb9-9488-e5234483128b",
   "metadata": {},
   "outputs": [
    {
     "data": {
      "text/plain": [
       "''"
      ]
     },
     "execution_count": 48,
     "metadata": {},
     "output_type": "execute_result"
    }
   ],
   "source": [
    "str[-1:7]"
   ]
  },
  {
   "cell_type": "code",
   "execution_count": 49,
   "id": "341f02fe-15fb-4488-9478-264c4d44a947",
   "metadata": {},
   "outputs": [
    {
     "data": {
      "text/plain": [
       "''"
      ]
     },
     "execution_count": 49,
     "metadata": {},
     "output_type": "execute_result"
    }
   ],
   "source": [
    "str[-1:-7]"
   ]
  },
  {
   "cell_type": "code",
   "execution_count": 50,
   "id": "504637c4-83a2-4416-b8b3-fd612832db4d",
   "metadata": {},
   "outputs": [
    {
     "data": {
      "text/plain": [
       "''"
      ]
     },
     "execution_count": 50,
     "metadata": {},
     "output_type": "execute_result"
    }
   ],
   "source": [
    "str[-1:-3]"
   ]
  },
  {
   "cell_type": "code",
   "execution_count": 51,
   "id": "d5e3a809-5e98-4b84-bc79-9e084f46f38b",
   "metadata": {},
   "outputs": [
    {
     "data": {
      "text/plain": [
       "'9'"
      ]
     },
     "execution_count": 51,
     "metadata": {},
     "output_type": "execute_result"
    }
   ],
   "source": [
    "str[-2]"
   ]
  },
  {
   "cell_type": "code",
   "execution_count": 52,
   "id": "421b0944-34fa-483e-95ea-f759777b3ae0",
   "metadata": {},
   "outputs": [
    {
     "data": {
      "text/plain": [
       "''"
      ]
     },
     "execution_count": 52,
     "metadata": {},
     "output_type": "execute_result"
    }
   ],
   "source": [
    "str[7:1]"
   ]
  },
  {
   "cell_type": "code",
   "execution_count": 53,
   "id": "2d9c5383-e2b3-4bca-b63b-7c95fca0fefa",
   "metadata": {},
   "outputs": [
    {
     "data": {
      "text/plain": [
       "'AR 199'"
      ]
     },
     "execution_count": 53,
     "metadata": {},
     "output_type": "execute_result"
    }
   ],
   "source": [
    "str[-7:-1]"
   ]
  },
  {
   "cell_type": "code",
   "execution_count": 54,
   "id": "98144367-b2c4-4eeb-9008-1a745c7b6f22",
   "metadata": {},
   "outputs": [
    {
     "data": {
      "text/plain": [
       "'PAVAN KUMAR 1999'"
      ]
     },
     "execution_count": 54,
     "metadata": {},
     "output_type": "execute_result"
    }
   ],
   "source": [
    "str"
   ]
  },
  {
   "cell_type": "code",
   "execution_count": 55,
   "id": "e0c0249e-4224-4235-b694-6f718064432c",
   "metadata": {},
   "outputs": [
    {
     "data": {
      "text/plain": [
       "16"
      ]
     },
     "execution_count": 55,
     "metadata": {},
     "output_type": "execute_result"
    }
   ],
   "source": [
    "len(str)"
   ]
  },
  {
   "cell_type": "code",
   "execution_count": 56,
   "id": "252cf6c1-5f21-438f-83a6-91f7aaf11ef6",
   "metadata": {},
   "outputs": [
    {
     "data": {
      "text/plain": [
       "False"
      ]
     },
     "execution_count": 56,
     "metadata": {},
     "output_type": "execute_result"
    }
   ],
   "source": [
    "str.isalnum()"
   ]
  },
  {
   "cell_type": "code",
   "execution_count": 57,
   "id": "8bed4d3e-e458-4cce-9955-defe58af198f",
   "metadata": {},
   "outputs": [
    {
     "data": {
      "text/plain": [
       "True"
      ]
     },
     "execution_count": 57,
     "metadata": {},
     "output_type": "execute_result"
    }
   ],
   "source": [
    "#since blank spaces are present it is not considered as Alphanumeric\n",
    "a=\"Pavan1999\"\n",
    "a.isalnum()"
   ]
  },
  {
   "cell_type": "code",
   "execution_count": 58,
   "id": "c96a4306-1bc9-4cee-b366-556002e1b343",
   "metadata": {},
   "outputs": [
    {
     "data": {
      "text/plain": [
       "True"
      ]
     },
     "execution_count": 58,
     "metadata": {},
     "output_type": "execute_result"
    }
   ],
   "source": [
    "str.endswith(\"9\")"
   ]
  },
  {
   "cell_type": "code",
   "execution_count": 59,
   "id": "025d6652-5b29-4cff-8747-8e61e52e7ab8",
   "metadata": {},
   "outputs": [
    {
     "data": {
      "text/plain": [
       "3"
      ]
     },
     "execution_count": 59,
     "metadata": {},
     "output_type": "execute_result"
    }
   ],
   "source": [
    "str.count(\"9\")"
   ]
  },
  {
   "cell_type": "code",
   "execution_count": 60,
   "id": "a73e4976-ef17-42c7-8095-6426d9561ea5",
   "metadata": {},
   "outputs": [
    {
     "data": {
      "text/plain": [
       "'Pavan kumar 1999'"
      ]
     },
     "execution_count": 60,
     "metadata": {},
     "output_type": "execute_result"
    }
   ],
   "source": [
    "str.capitalize()"
   ]
  },
  {
   "cell_type": "code",
   "execution_count": 61,
   "id": "3d7c6091-063b-4968-8edf-39436c4eb972",
   "metadata": {},
   "outputs": [
    {
     "data": {
      "text/plain": [
       "'pavan kumar 1999'"
      ]
     },
     "execution_count": 61,
     "metadata": {},
     "output_type": "execute_result"
    }
   ],
   "source": [
    "str.lower()"
   ]
  },
  {
   "cell_type": "code",
   "execution_count": 62,
   "id": "1d2f4f1d-05f9-4852-9c4c-1cd996f750a7",
   "metadata": {},
   "outputs": [
    {
     "data": {
      "text/plain": [
       "'PAVAN KUMAR 1999'"
      ]
     },
     "execution_count": 62,
     "metadata": {},
     "output_type": "execute_result"
    }
   ],
   "source": [
    "str.upper()"
   ]
  },
  {
   "cell_type": "code",
   "execution_count": 63,
   "id": "cb920342-9ed1-49aa-9783-a9bd8e2fe584",
   "metadata": {},
   "outputs": [
    {
     "data": {
      "text/plain": [
       "7"
      ]
     },
     "execution_count": 63,
     "metadata": {},
     "output_type": "execute_result"
    }
   ],
   "source": [
    "str.find(\"UMA\")"
   ]
  },
  {
   "cell_type": "code",
   "execution_count": 64,
   "id": "332f2d4f-8890-4a97-892f-e47fbe99faf6",
   "metadata": {},
   "outputs": [
    {
     "data": {
      "text/plain": [
       "'PAWAN KUMAR 1999'"
      ]
     },
     "execution_count": 64,
     "metadata": {},
     "output_type": "execute_result"
    }
   ],
   "source": [
    "str.replace(\"V\",\"W\")"
   ]
  },
  {
   "cell_type": "code",
   "execution_count": 65,
   "id": "56b08c09-b28b-4d22-92f8-53e901ceca99",
   "metadata": {},
   "outputs": [
    {
     "data": {
      "text/plain": [
       "'PZVZN KUMZR 1999'"
      ]
     },
     "execution_count": 65,
     "metadata": {},
     "output_type": "execute_result"
    }
   ],
   "source": [
    "str.replace(\"A\",\"Z\")"
   ]
  },
  {
   "cell_type": "code",
   "execution_count": 66,
   "id": "278a2ea3-3a8f-4914-92e7-e4d67d89c233",
   "metadata": {},
   "outputs": [
    {
     "data": {
      "text/plain": [
       "'PAVAN KUMAR 1999PAVAN KUMAR 1999'"
      ]
     },
     "execution_count": 66,
     "metadata": {},
     "output_type": "execute_result"
    }
   ],
   "source": [
    "str*2"
   ]
  },
  {
   "cell_type": "code",
   "execution_count": 67,
   "id": "eb0d05e2-629a-44a2-9063-decd59ff44e9",
   "metadata": {},
   "outputs": [
    {
     "data": {
      "text/plain": [
       "'PAVAN KUMAR 1999XYZ'"
      ]
     },
     "execution_count": 67,
     "metadata": {},
     "output_type": "execute_result"
    }
   ],
   "source": [
    "str + \"XYZ\""
   ]
  },
  {
   "cell_type": "code",
   "execution_count": 68,
   "id": "64ea9e72-9d06-4361-adc9-778dc191594d",
   "metadata": {},
   "outputs": [
    {
     "data": {
      "text/plain": [
       "'1ABC'"
      ]
     },
     "execution_count": 68,
     "metadata": {},
     "output_type": "execute_result"
    }
   ],
   "source": [
    "str[12]+\"ABC\""
   ]
  },
  {
   "cell_type": "code",
   "execution_count": 69,
   "id": "aa2fd08d-138e-4b91-916e-16712e4efa99",
   "metadata": {},
   "outputs": [
    {
     "data": {
      "text/plain": [
       "str"
      ]
     },
     "execution_count": 69,
     "metadata": {},
     "output_type": "execute_result"
    }
   ],
   "source": [
    "type(str)"
   ]
  },
  {
   "cell_type": "markdown",
   "id": "a3ee7ed7-c1ee-4aef-b5c1-2e89738e3766",
   "metadata": {},
   "source": [
    "5.LISTS"
   ]
  },
  {
   "cell_type": "code",
   "execution_count": 70,
   "id": "e9f74fdf-09f4-41e6-95ae-3823f4981430",
   "metadata": {},
   "outputs": [],
   "source": [
    "#Strings can also be considered as array of characters\n",
    "A=[1,92.34,6+2j,\"ABC\",True]"
   ]
  },
  {
   "cell_type": "code",
   "execution_count": 71,
   "id": "070da41d-fee8-4366-bb7e-131b9bffc2e9",
   "metadata": {},
   "outputs": [
    {
     "name": "stdout",
     "output_type": "stream",
     "text": [
      "[1, 92.34, (6+2j), 'ABC', True]\n"
     ]
    }
   ],
   "source": [
    "print(A)"
   ]
  },
  {
   "cell_type": "code",
   "execution_count": 72,
   "id": "9bff68d9-0471-4efe-b027-d7f519b507e5",
   "metadata": {},
   "outputs": [
    {
     "data": {
      "text/plain": [
       "'ABC'"
      ]
     },
     "execution_count": 72,
     "metadata": {},
     "output_type": "execute_result"
    }
   ],
   "source": [
    "#list is the grouping of same or various kinds of data \n",
    "A[3]"
   ]
  },
  {
   "cell_type": "code",
   "execution_count": 73,
   "id": "bcfc1974-9110-455e-bd55-97e363c18378",
   "metadata": {},
   "outputs": [
    {
     "data": {
      "text/plain": [
       "list"
      ]
     },
     "execution_count": 73,
     "metadata": {},
     "output_type": "execute_result"
    }
   ],
   "source": [
    "type(A)"
   ]
  },
  {
   "cell_type": "code",
   "execution_count": 74,
   "id": "6e331d72-4214-46c7-b52c-20e594519dc9",
   "metadata": {},
   "outputs": [
    {
     "data": {
      "text/plain": [
       "complex"
      ]
     },
     "execution_count": 74,
     "metadata": {},
     "output_type": "execute_result"
    }
   ],
   "source": [
    "type(A[2])"
   ]
  },
  {
   "cell_type": "code",
   "execution_count": 75,
   "id": "59162f7b-31ff-4042-8709-99d1223425c5",
   "metadata": {},
   "outputs": [
    {
     "data": {
      "text/plain": [
       "[1, 92.34, (6+2j), 'ABC', True]"
      ]
     },
     "execution_count": 75,
     "metadata": {},
     "output_type": "execute_result"
    }
   ],
   "source": [
    "A"
   ]
  },
  {
   "cell_type": "code",
   "execution_count": 76,
   "id": "d65a3203-29cf-449f-8873-da5d721fd766",
   "metadata": {},
   "outputs": [],
   "source": [
    "A.reverse()"
   ]
  },
  {
   "cell_type": "code",
   "execution_count": 77,
   "id": "9c675d2f-9475-4852-a627-4ce27cc82915",
   "metadata": {},
   "outputs": [
    {
     "name": "stdout",
     "output_type": "stream",
     "text": [
      "[True, 'ABC', (6+2j), 92.34, 1]\n"
     ]
    }
   ],
   "source": [
    "print(A)"
   ]
  },
  {
   "cell_type": "code",
   "execution_count": 78,
   "id": "b1f9ab20-586f-4696-8d73-a79e2624795d",
   "metadata": {},
   "outputs": [
    {
     "ename": "TypeError",
     "evalue": "'<' not supported between instances of 'str' and 'bool'",
     "output_type": "error",
     "traceback": [
      "\u001b[1;31m---------------------------------------------------------------------------\u001b[0m",
      "\u001b[1;31mTypeError\u001b[0m                                 Traceback (most recent call last)",
      "Cell \u001b[1;32mIn[78], line 1\u001b[0m\n\u001b[1;32m----> 1\u001b[0m \u001b[43mA\u001b[49m\u001b[38;5;241;43m.\u001b[39;49m\u001b[43msort\u001b[49m\u001b[43m(\u001b[49m\u001b[43m)\u001b[49m\n",
      "\u001b[1;31mTypeError\u001b[0m: '<' not supported between instances of 'str' and 'bool'"
     ]
    }
   ],
   "source": [
    "A.sort()"
   ]
  },
  {
   "cell_type": "code",
   "execution_count": 79,
   "id": "f959fe75-6199-4de6-8685-69b2fd66b104",
   "metadata": {},
   "outputs": [],
   "source": [
    "B=[1,3,2,5,0,7,3,4]\n",
    "B.sort()"
   ]
  },
  {
   "cell_type": "code",
   "execution_count": 80,
   "id": "8b2f057a-9737-4a6a-981b-ec6d79f40784",
   "metadata": {},
   "outputs": [
    {
     "name": "stdout",
     "output_type": "stream",
     "text": [
      "[0, 1, 2, 3, 3, 4, 5, 7]\n"
     ]
    }
   ],
   "source": [
    "print(B)"
   ]
  },
  {
   "cell_type": "code",
   "execution_count": 81,
   "id": "35df7f44-4fc0-42fc-95db-adb700f15395",
   "metadata": {},
   "outputs": [],
   "source": [
    "B.reverse()"
   ]
  },
  {
   "cell_type": "code",
   "execution_count": 82,
   "id": "e4136c57-6dcb-42fa-8418-4fb3a74322e2",
   "metadata": {},
   "outputs": [
    {
     "name": "stdout",
     "output_type": "stream",
     "text": [
      "[7, 5, 4, 3, 3, 2, 1, 0]\n"
     ]
    }
   ],
   "source": [
    "print(B)"
   ]
  },
  {
   "cell_type": "code",
   "execution_count": 83,
   "id": "1b5d580c-36c2-474c-9626-867683585029",
   "metadata": {},
   "outputs": [
    {
     "data": {
      "text/plain": [
       "5"
      ]
     },
     "execution_count": 83,
     "metadata": {},
     "output_type": "execute_result"
    }
   ],
   "source": [
    "len(A)"
   ]
  },
  {
   "cell_type": "code",
   "execution_count": 84,
   "id": "cfebb15d-3a70-4dc1-a1fd-0f8ebd983f0a",
   "metadata": {},
   "outputs": [
    {
     "data": {
      "text/plain": [
       "8"
      ]
     },
     "execution_count": 84,
     "metadata": {},
     "output_type": "execute_result"
    }
   ],
   "source": [
    "len(B)"
   ]
  },
  {
   "cell_type": "code",
   "execution_count": 85,
   "id": "30c27cb8-f49a-41c2-85f3-4e436e9bddea",
   "metadata": {},
   "outputs": [
    {
     "data": {
      "text/plain": [
       "[True, 'ABC', (6+2j), 92.34, 1, 7, 5, 4, 3, 3, 2, 1, 0]"
      ]
     },
     "execution_count": 85,
     "metadata": {},
     "output_type": "execute_result"
    }
   ],
   "source": [
    "A+B"
   ]
  },
  {
   "cell_type": "code",
   "execution_count": 86,
   "id": "f92f8e21-91a9-4c26-b5da-97af29edacd2",
   "metadata": {},
   "outputs": [
    {
     "data": {
      "text/plain": [
       "0"
      ]
     },
     "execution_count": 86,
     "metadata": {},
     "output_type": "execute_result"
    }
   ],
   "source": [
    "min(B)"
   ]
  },
  {
   "cell_type": "code",
   "execution_count": 87,
   "id": "d578f11b-2cfa-4253-b978-a26fe46e5b87",
   "metadata": {},
   "outputs": [
    {
     "ename": "TypeError",
     "evalue": "'<' not supported between instances of 'str' and 'bool'",
     "output_type": "error",
     "traceback": [
      "\u001b[1;31m---------------------------------------------------------------------------\u001b[0m",
      "\u001b[1;31mTypeError\u001b[0m                                 Traceback (most recent call last)",
      "Cell \u001b[1;32mIn[87], line 1\u001b[0m\n\u001b[1;32m----> 1\u001b[0m \u001b[38;5;28;43mmin\u001b[39;49m\u001b[43m(\u001b[49m\u001b[43mA\u001b[49m\u001b[43m)\u001b[49m\n",
      "\u001b[1;31mTypeError\u001b[0m: '<' not supported between instances of 'str' and 'bool'"
     ]
    }
   ],
   "source": [
    "min(A)"
   ]
  },
  {
   "cell_type": "code",
   "execution_count": 88,
   "id": "a0a84ee0-a2b1-490e-964b-af60ce475c6c",
   "metadata": {},
   "outputs": [
    {
     "data": {
      "text/plain": [
       "7"
      ]
     },
     "execution_count": 88,
     "metadata": {},
     "output_type": "execute_result"
    }
   ],
   "source": [
    "max(B)"
   ]
  },
  {
   "cell_type": "code",
   "execution_count": 89,
   "id": "003b32dc-7de7-491f-a2f2-ec4c77b80494",
   "metadata": {},
   "outputs": [
    {
     "data": {
      "text/plain": [
       "[7, 5, 4, 3, 3, 2, 1, 0]"
      ]
     },
     "execution_count": 89,
     "metadata": {},
     "output_type": "execute_result"
    }
   ],
   "source": [
    "B"
   ]
  },
  {
   "cell_type": "code",
   "execution_count": 90,
   "id": "9e6cf182-f297-4e85-8939-0c2810844b0a",
   "metadata": {},
   "outputs": [
    {
     "data": {
      "text/plain": [
       "[True, 'ABC', (6+2j), 92.34, 1, 7, 4, 3, 1]"
      ]
     },
     "execution_count": 90,
     "metadata": {},
     "output_type": "execute_result"
    }
   ],
   "source": [
    "A+B[::2]"
   ]
  },
  {
   "cell_type": "code",
   "execution_count": 91,
   "id": "b6b6248d-2b36-4fb9-9d3d-9c0ed827e8c2",
   "metadata": {},
   "outputs": [
    {
     "data": {
      "text/plain": [
       "[7, 4, 3, 1]"
      ]
     },
     "execution_count": 91,
     "metadata": {},
     "output_type": "execute_result"
    }
   ],
   "source": [
    "B[::2]"
   ]
  },
  {
   "cell_type": "code",
   "execution_count": 93,
   "id": "945379ae-097f-4b6b-9a01-f7120daa5703",
   "metadata": {},
   "outputs": [
    {
     "data": {
      "text/plain": [
       "[True, (6+2j), 1]"
      ]
     },
     "execution_count": 93,
     "metadata": {},
     "output_type": "execute_result"
    }
   ],
   "source": [
    "A[::2]"
   ]
  },
  {
   "cell_type": "code",
   "execution_count": 94,
   "id": "72eb2530-15cb-415d-93c5-0f5ced900bac",
   "metadata": {},
   "outputs": [],
   "source": [
    "B.append(10)"
   ]
  },
  {
   "cell_type": "code",
   "execution_count": 95,
   "id": "26e8c091-61f2-47b5-a260-05e87329b7f6",
   "metadata": {},
   "outputs": [
    {
     "data": {
      "text/plain": [
       "[7, 5, 4, 3, 3, 2, 1, 0, 10]"
      ]
     },
     "execution_count": 95,
     "metadata": {},
     "output_type": "execute_result"
    }
   ],
   "source": [
    "B"
   ]
  },
  {
   "cell_type": "code",
   "execution_count": 96,
   "id": "7cc6a77a-a390-4d33-be9b-4c48621363e3",
   "metadata": {},
   "outputs": [
    {
     "data": {
      "text/plain": [
       "[True, 'ABC', (6+2j), 92.34, 1]"
      ]
     },
     "execution_count": 96,
     "metadata": {},
     "output_type": "execute_result"
    }
   ],
   "source": [
    "A"
   ]
  },
  {
   "cell_type": "code",
   "execution_count": 97,
   "id": "a8901d6d-9913-4fc5-9037-ba92d1546dea",
   "metadata": {},
   "outputs": [],
   "source": [
    "A.insert(1,\"XYZ\")"
   ]
  },
  {
   "cell_type": "code",
   "execution_count": 98,
   "id": "107ccdce-2245-4f4f-b554-11bdd7241776",
   "metadata": {},
   "outputs": [
    {
     "data": {
      "text/plain": [
       "[True, 'XYZ', 'ABC', (6+2j), 92.34, 1]"
      ]
     },
     "execution_count": 98,
     "metadata": {},
     "output_type": "execute_result"
    }
   ],
   "source": [
    "A"
   ]
  },
  {
   "cell_type": "code",
   "execution_count": 99,
   "id": "883e2dd6-ffac-4f98-9066-403dcafaf5f5",
   "metadata": {},
   "outputs": [],
   "source": [
    "A.remove(\"ABC\")"
   ]
  },
  {
   "cell_type": "code",
   "execution_count": 100,
   "id": "3f8a9802-66fe-4964-945b-2aaa0201f91c",
   "metadata": {},
   "outputs": [
    {
     "data": {
      "text/plain": [
       "[True, 'XYZ', (6+2j), 92.34, 1]"
      ]
     },
     "execution_count": 100,
     "metadata": {},
     "output_type": "execute_result"
    }
   ],
   "source": [
    "A"
   ]
  },
  {
   "cell_type": "code",
   "execution_count": 101,
   "id": "7db731da-3e95-427c-86af-beec2512f797",
   "metadata": {},
   "outputs": [
    {
     "data": {
      "text/plain": [
       "1"
      ]
     },
     "execution_count": 101,
     "metadata": {},
     "output_type": "execute_result"
    }
   ],
   "source": [
    "A.pop()"
   ]
  },
  {
   "cell_type": "code",
   "execution_count": 102,
   "id": "27337527-f909-4b60-96c7-e5f896d40944",
   "metadata": {},
   "outputs": [
    {
     "ename": "TypeError",
     "evalue": "'str' object cannot be interpreted as an integer",
     "output_type": "error",
     "traceback": [
      "\u001b[1;31m---------------------------------------------------------------------------\u001b[0m",
      "\u001b[1;31mTypeError\u001b[0m                                 Traceback (most recent call last)",
      "Cell \u001b[1;32mIn[102], line 1\u001b[0m\n\u001b[1;32m----> 1\u001b[0m \u001b[43mA\u001b[49m\u001b[38;5;241;43m.\u001b[39;49m\u001b[43mpop\u001b[49m\u001b[43m(\u001b[49m\u001b[38;5;124;43m\"\u001b[39;49m\u001b[38;5;124;43mXYZ\u001b[39;49m\u001b[38;5;124;43m\"\u001b[39;49m\u001b[43m)\u001b[49m\n",
      "\u001b[1;31mTypeError\u001b[0m: 'str' object cannot be interpreted as an integer"
     ]
    }
   ],
   "source": [
    "A.pop(\"XYZ\")"
   ]
  },
  {
   "cell_type": "code",
   "execution_count": 103,
   "id": "27a96e70-447d-4ee8-991c-52973b947ed7",
   "metadata": {},
   "outputs": [
    {
     "data": {
      "text/plain": [
       "'XYZ'"
      ]
     },
     "execution_count": 103,
     "metadata": {},
     "output_type": "execute_result"
    }
   ],
   "source": [
    "A.pop(1)"
   ]
  },
  {
   "cell_type": "code",
   "execution_count": 104,
   "id": "0c1ca13a-f108-430f-b789-0add900cf41f",
   "metadata": {},
   "outputs": [
    {
     "data": {
      "text/plain": [
       "[True, (6+2j), 92.34]"
      ]
     },
     "execution_count": 104,
     "metadata": {},
     "output_type": "execute_result"
    }
   ],
   "source": [
    "A"
   ]
  },
  {
   "cell_type": "code",
   "execution_count": 105,
   "id": "92961259-16e6-4baa-ae2d-45ff454a28eb",
   "metadata": {},
   "outputs": [
    {
     "ename": "TypeError",
     "evalue": "list expected at most 1 argument, got 2",
     "output_type": "error",
     "traceback": [
      "\u001b[1;31m---------------------------------------------------------------------------\u001b[0m",
      "\u001b[1;31mTypeError\u001b[0m                                 Traceback (most recent call last)",
      "Cell \u001b[1;32mIn[105], line 1\u001b[0m\n\u001b[1;32m----> 1\u001b[0m C\u001b[38;5;241m=\u001b[39m\u001b[38;5;28;43mlist\u001b[39;49m\u001b[43m(\u001b[49m\u001b[43mA\u001b[49m\u001b[43m,\u001b[49m\u001b[43mB\u001b[49m\u001b[43m)\u001b[49m\n",
      "\u001b[1;31mTypeError\u001b[0m: list expected at most 1 argument, got 2"
     ]
    }
   ],
   "source": [
    "C=list(A,B)"
   ]
  },
  {
   "cell_type": "code",
   "execution_count": 106,
   "id": "c7760629-0285-4751-b0de-af7d4e8db459",
   "metadata": {},
   "outputs": [],
   "source": [
    "C=[A,B]"
   ]
  },
  {
   "cell_type": "code",
   "execution_count": 107,
   "id": "71ec524d-8e95-43f0-8dbe-a5cda9784b75",
   "metadata": {},
   "outputs": [
    {
     "data": {
      "text/plain": [
       "[[True, (6+2j), 92.34], [7, 5, 4, 3, 3, 2, 1, 0, 10]]"
      ]
     },
     "execution_count": 107,
     "metadata": {},
     "output_type": "execute_result"
    }
   ],
   "source": [
    "C"
   ]
  },
  {
   "cell_type": "code",
   "execution_count": 108,
   "id": "95c25fdd-0de5-400b-8bae-991c389e360e",
   "metadata": {},
   "outputs": [
    {
     "data": {
      "text/plain": [
       "list"
      ]
     },
     "execution_count": 108,
     "metadata": {},
     "output_type": "execute_result"
    }
   ],
   "source": [
    "type(C)"
   ]
  },
  {
   "cell_type": "code",
   "execution_count": 110,
   "id": "7d6689be-129e-4686-afec-b26134db0ea9",
   "metadata": {},
   "outputs": [
    {
     "ename": "NameError",
     "evalue": "name 'size' is not defined",
     "output_type": "error",
     "traceback": [
      "\u001b[1;31m---------------------------------------------------------------------------\u001b[0m",
      "\u001b[1;31mNameError\u001b[0m                                 Traceback (most recent call last)",
      "Cell \u001b[1;32mIn[110], line 1\u001b[0m\n\u001b[1;32m----> 1\u001b[0m \u001b[43msize\u001b[49m(C)\n",
      "\u001b[1;31mNameError\u001b[0m: name 'size' is not defined"
     ]
    }
   ],
   "source": [
    "size(C)"
   ]
  },
  {
   "cell_type": "markdown",
   "id": "1317e665-136b-41be-98ce-95fe2c1a486b",
   "metadata": {},
   "source": [
    "6.TUPLES"
   ]
  },
  {
   "cell_type": "code",
   "execution_count": 111,
   "id": "23596776-3751-4c8f-8566-366af6e3394b",
   "metadata": {},
   "outputs": [],
   "source": [
    "#Tuples are similar to lists except for they are immutable i.e, can not change the values of tuple once declared\n",
    "A=(\"ABC\",1,9j,9.8)"
   ]
  },
  {
   "cell_type": "code",
   "execution_count": 112,
   "id": "2bbd8c3d-46c6-4df5-b1e1-7e84d09cba80",
   "metadata": {},
   "outputs": [
    {
     "data": {
      "text/plain": [
       "('ABC', 1, 9j, 9.8)"
      ]
     },
     "execution_count": 112,
     "metadata": {},
     "output_type": "execute_result"
    }
   ],
   "source": [
    "A"
   ]
  },
  {
   "cell_type": "code",
   "execution_count": 113,
   "id": "623882c2-b31f-4529-bffc-bc598bc9439e",
   "metadata": {},
   "outputs": [
    {
     "data": {
      "text/plain": [
       "tuple"
      ]
     },
     "execution_count": 113,
     "metadata": {},
     "output_type": "execute_result"
    }
   ],
   "source": [
    "type(A)"
   ]
  },
  {
   "cell_type": "code",
   "execution_count": 114,
   "id": "877325dc-6bc7-48ea-80a1-d6449f9a5d05",
   "metadata": {},
   "outputs": [
    {
     "data": {
      "text/plain": [
       "('ABC', 9j)"
      ]
     },
     "execution_count": 114,
     "metadata": {},
     "output_type": "execute_result"
    }
   ],
   "source": [
    "A[::2]"
   ]
  },
  {
   "cell_type": "code",
   "execution_count": 115,
   "id": "50cc947e-7443-4094-bce2-bb0b74ec8d52",
   "metadata": {},
   "outputs": [
    {
     "data": {
      "text/plain": [
       "(1, 9j, 9.8)"
      ]
     },
     "execution_count": 115,
     "metadata": {},
     "output_type": "execute_result"
    }
   ],
   "source": [
    "A[1:4]"
   ]
  },
  {
   "cell_type": "code",
   "execution_count": 116,
   "id": "bd814b24-7958-4275-bd50-7e6a3917dd32",
   "metadata": {},
   "outputs": [
    {
     "ename": "TypeError",
     "evalue": "'tuple' object does not support item assignment",
     "output_type": "error",
     "traceback": [
      "\u001b[1;31m---------------------------------------------------------------------------\u001b[0m",
      "\u001b[1;31mTypeError\u001b[0m                                 Traceback (most recent call last)",
      "Cell \u001b[1;32mIn[116], line 1\u001b[0m\n\u001b[1;32m----> 1\u001b[0m \u001b[43mA\u001b[49m\u001b[43m[\u001b[49m\u001b[38;5;241;43m1\u001b[39;49m\u001b[43m]\u001b[49m\u001b[38;5;241m=\u001b[39m\u001b[38;5;241m100\u001b[39m\n",
      "\u001b[1;31mTypeError\u001b[0m: 'tuple' object does not support item assignment"
     ]
    }
   ],
   "source": [
    "A[1]=100"
   ]
  },
  {
   "cell_type": "code",
   "execution_count": 117,
   "id": "8032ce49-d7b3-4146-9876-58c65141d01b",
   "metadata": {},
   "outputs": [
    {
     "ename": "AttributeError",
     "evalue": "'tuple' object has no attribute 'pop'",
     "output_type": "error",
     "traceback": [
      "\u001b[1;31m---------------------------------------------------------------------------\u001b[0m",
      "\u001b[1;31mAttributeError\u001b[0m                            Traceback (most recent call last)",
      "Cell \u001b[1;32mIn[117], line 1\u001b[0m\n\u001b[1;32m----> 1\u001b[0m \u001b[43mA\u001b[49m\u001b[38;5;241;43m.\u001b[39;49m\u001b[43mpop\u001b[49m()\n",
      "\u001b[1;31mAttributeError\u001b[0m: 'tuple' object has no attribute 'pop'"
     ]
    }
   ],
   "source": [
    "A.pop()"
   ]
  },
  {
   "cell_type": "code",
   "execution_count": 118,
   "id": "a28fbefd-42ad-482c-9bf5-4dee6c6e41dc",
   "metadata": {},
   "outputs": [
    {
     "ename": "AttributeError",
     "evalue": "'tuple' object has no attribute 'remove'",
     "output_type": "error",
     "traceback": [
      "\u001b[1;31m---------------------------------------------------------------------------\u001b[0m",
      "\u001b[1;31mAttributeError\u001b[0m                            Traceback (most recent call last)",
      "Cell \u001b[1;32mIn[118], line 1\u001b[0m\n\u001b[1;32m----> 1\u001b[0m \u001b[43mA\u001b[49m\u001b[38;5;241;43m.\u001b[39;49m\u001b[43mremove\u001b[49m(\u001b[38;5;241m1\u001b[39m)\n",
      "\u001b[1;31mAttributeError\u001b[0m: 'tuple' object has no attribute 'remove'"
     ]
    }
   ],
   "source": [
    "A.remove(1)"
   ]
  },
  {
   "cell_type": "code",
   "execution_count": 119,
   "id": "d8bdb536-876e-4dc5-8262-201a5b7c880b",
   "metadata": {},
   "outputs": [
    {
     "ename": "SyntaxError",
     "evalue": "invalid syntax (2457430239.py, line 1)",
     "output_type": "error",
     "traceback": [
      "\u001b[1;36m  Cell \u001b[1;32mIn[119], line 1\u001b[1;36m\u001b[0m\n\u001b[1;33m    A.del(1)\u001b[0m\n\u001b[1;37m      ^\u001b[0m\n\u001b[1;31mSyntaxError\u001b[0m\u001b[1;31m:\u001b[0m invalid syntax\n"
     ]
    }
   ],
   "source": [
    "A.del(1)"
   ]
  },
  {
   "cell_type": "code",
   "execution_count": 121,
   "id": "14180a1b-3f90-4572-bc7c-00070b6587da",
   "metadata": {},
   "outputs": [],
   "source": [
    "B=(1,3j,\"AXZ\",9.9)"
   ]
  },
  {
   "cell_type": "code",
   "execution_count": 122,
   "id": "2a6fb874-c3d7-468a-a735-d8328d020459",
   "metadata": {},
   "outputs": [],
   "source": [
    "C=(A,B)"
   ]
  },
  {
   "cell_type": "code",
   "execution_count": 123,
   "id": "0ed7f20d-6a7e-46a2-bdc5-671a4fafd79e",
   "metadata": {},
   "outputs": [
    {
     "data": {
      "text/plain": [
       "(('ABC', 1, 9j, 9.8), (1, 3j, 'AXZ', 9.9))"
      ]
     },
     "execution_count": 123,
     "metadata": {},
     "output_type": "execute_result"
    }
   ],
   "source": [
    "C"
   ]
  },
  {
   "cell_type": "code",
   "execution_count": 124,
   "id": "06017dba-0bf0-403c-89ad-c03a1f72423e",
   "metadata": {},
   "outputs": [
    {
     "data": {
      "text/plain": [
       "tuple"
      ]
     },
     "execution_count": 124,
     "metadata": {},
     "output_type": "execute_result"
    }
   ],
   "source": [
    "type(C)"
   ]
  },
  {
   "cell_type": "code",
   "execution_count": 125,
   "id": "6b3d2505-cdb4-4d52-8b71-222a1b395bd4",
   "metadata": {},
   "outputs": [],
   "source": [
    "D=[1,2,3]"
   ]
  },
  {
   "cell_type": "code",
   "execution_count": 126,
   "id": "3fa4069f-d5b0-4104-b6e6-9d1ad6f859da",
   "metadata": {},
   "outputs": [],
   "source": [
    "C=(A,B,D)"
   ]
  },
  {
   "cell_type": "code",
   "execution_count": 127,
   "id": "d0599a0c-bcd7-4070-8b85-8d723c09e457",
   "metadata": {},
   "outputs": [
    {
     "data": {
      "text/plain": [
       "(('ABC', 1, 9j, 9.8), (1, 3j, 'AXZ', 9.9), [1, 2, 3])"
      ]
     },
     "execution_count": 127,
     "metadata": {},
     "output_type": "execute_result"
    }
   ],
   "source": [
    "C"
   ]
  },
  {
   "cell_type": "markdown",
   "id": "339c94f7-c499-400f-95bc-ad538687a6e4",
   "metadata": {},
   "source": [
    "7.RANGE FUNCTIONS"
   ]
  },
  {
   "cell_type": "code",
   "execution_count": 128,
   "id": "28a31e4c-a2dc-49d1-99c4-38d2dcf6f85b",
   "metadata": {},
   "outputs": [
    {
     "data": {
      "text/plain": [
       "range(0, 4)"
      ]
     },
     "execution_count": 128,
     "metadata": {},
     "output_type": "execute_result"
    }
   ],
   "source": [
    "#Syntax -> range(start,stop,step)\n",
    "range(4)"
   ]
  },
  {
   "cell_type": "code",
   "execution_count": 129,
   "id": "9ab51626-0c43-4ad5-8db3-1088a9f15e97",
   "metadata": {},
   "outputs": [
    {
     "data": {
      "text/plain": [
       "range(3, 9, 2)"
      ]
     },
     "execution_count": 129,
     "metadata": {},
     "output_type": "execute_result"
    }
   ],
   "source": [
    "range(3,9,2)"
   ]
  },
  {
   "cell_type": "code",
   "execution_count": 130,
   "id": "2466e73b-2c86-4e23-9e2a-ecb728661506",
   "metadata": {},
   "outputs": [
    {
     "name": "stdout",
     "output_type": "stream",
     "text": [
      "3\n",
      "5\n",
      "7\n"
     ]
    }
   ],
   "source": [
    "for i in range(3,9,2):\n",
    "    print(i)"
   ]
  },
  {
   "cell_type": "markdown",
   "id": "b65ed92a-060f-4fb4-967f-682239ec02f0",
   "metadata": {},
   "source": [
    "8.Dictionary {KEY:Value} Pairs"
   ]
  },
  {
   "cell_type": "code",
   "execution_count": 131,
   "id": "dff1ea0c-b804-4d24-9735-d5a3f369af08",
   "metadata": {},
   "outputs": [],
   "source": [
    "A={\"name\":\"Pavan\",\"Age\":24,\"Grade\":98.1}"
   ]
  },
  {
   "cell_type": "code",
   "execution_count": 132,
   "id": "4b89dd18-5dc0-450b-8ba9-32c62d054f25",
   "metadata": {},
   "outputs": [
    {
     "data": {
      "text/plain": [
       "dict"
      ]
     },
     "execution_count": 132,
     "metadata": {},
     "output_type": "execute_result"
    }
   ],
   "source": [
    "type(A)"
   ]
  },
  {
   "cell_type": "code",
   "execution_count": 133,
   "id": "bfbe3b78-b7c7-49c6-9e4e-d85361b99ce8",
   "metadata": {},
   "outputs": [
    {
     "data": {
      "text/plain": [
       "{'name': 'Pavan', 'Age': 24, 'Grade': 98.1}"
      ]
     },
     "execution_count": 133,
     "metadata": {},
     "output_type": "execute_result"
    }
   ],
   "source": [
    "A"
   ]
  },
  {
   "cell_type": "code",
   "execution_count": 134,
   "id": "3ae1c39c-db6e-4feb-b39d-416ff77ef273",
   "metadata": {},
   "outputs": [
    {
     "data": {
      "text/plain": [
       "dict_keys(['name', 'Age', 'Grade'])"
      ]
     },
     "execution_count": 134,
     "metadata": {},
     "output_type": "execute_result"
    }
   ],
   "source": [
    "A.keys()"
   ]
  },
  {
   "cell_type": "code",
   "execution_count": 135,
   "id": "036902d3-6fed-4163-89f9-feced38c095a",
   "metadata": {},
   "outputs": [
    {
     "data": {
      "text/plain": [
       "dict_values(['Pavan', 24, 98.1])"
      ]
     },
     "execution_count": 135,
     "metadata": {},
     "output_type": "execute_result"
    }
   ],
   "source": [
    "A.values()"
   ]
  },
  {
   "cell_type": "code",
   "execution_count": 138,
   "id": "7f1d79af-0b1f-4704-94e5-76a793a07f5a",
   "metadata": {},
   "outputs": [],
   "source": [
    "B={1:\"A\",2:\"B\"}"
   ]
  },
  {
   "cell_type": "code",
   "execution_count": 139,
   "id": "11fd25ee-3247-472d-90b4-2c2fb49e0915",
   "metadata": {},
   "outputs": [],
   "source": [
    "B[2]=\"ABC\""
   ]
  },
  {
   "cell_type": "code",
   "execution_count": 140,
   "id": "3b34736a-92fc-4cbd-b390-e11b3ac3b5b0",
   "metadata": {},
   "outputs": [
    {
     "data": {
      "text/plain": [
       "{1: 'A', 2: 'ABC'}"
      ]
     },
     "execution_count": 140,
     "metadata": {},
     "output_type": "execute_result"
    }
   ],
   "source": [
    "B"
   ]
  },
  {
   "cell_type": "code",
   "execution_count": 141,
   "id": "10c4c79a-0dd6-4314-b38a-e63141128e12",
   "metadata": {},
   "outputs": [],
   "source": [
    "A[\"name\"]=\"XYZABC\""
   ]
  },
  {
   "cell_type": "code",
   "execution_count": 142,
   "id": "f57cf94b-0723-484f-a8a2-b39ec168e46f",
   "metadata": {},
   "outputs": [
    {
     "data": {
      "text/plain": [
       "{'name': 'XYZABC', 'Age': 24, 'Grade': 98.1}"
      ]
     },
     "execution_count": 142,
     "metadata": {},
     "output_type": "execute_result"
    }
   ],
   "source": [
    "A"
   ]
  },
  {
   "cell_type": "code",
   "execution_count": 144,
   "id": "8be9c765-4830-4104-bfca-825db2117b73",
   "metadata": {},
   "outputs": [
    {
     "ename": "TypeError",
     "evalue": "unhashable type: 'dict'",
     "output_type": "error",
     "traceback": [
      "\u001b[1;31m---------------------------------------------------------------------------\u001b[0m",
      "\u001b[1;31mTypeError\u001b[0m                                 Traceback (most recent call last)",
      "Cell \u001b[1;32mIn[144], line 2\u001b[0m\n\u001b[0;32m      1\u001b[0m \u001b[38;5;66;03m#We cannot store list and dictionaries in dictionary but we can with Tuples and other datatypes also\u001b[39;00m\n\u001b[1;32m----> 2\u001b[0m C\u001b[38;5;241m=\u001b[39m{A:\u001b[38;5;124m\"\u001b[39m\u001b[38;5;124mDict1\u001b[39m\u001b[38;5;124m\"\u001b[39m,B:\u001b[38;5;124m\"\u001b[39m\u001b[38;5;124mDict2\u001b[39m\u001b[38;5;124m\"\u001b[39m}\n",
      "\u001b[1;31mTypeError\u001b[0m: unhashable type: 'dict'"
     ]
    }
   ],
   "source": [
    "#We cannot store list and dictionaries in dictionary but we can with Tuples and other datatypes also\n",
    "C={A:\"Dict1\",B:\"Dict2\"}"
   ]
  },
  {
   "cell_type": "code",
   "execution_count": 145,
   "id": "712d3b83-54a2-40e2-b061-b92886bf9a94",
   "metadata": {},
   "outputs": [],
   "source": [
    "C=A"
   ]
  },
  {
   "cell_type": "code",
   "execution_count": 146,
   "id": "e5559bc5-993b-4c98-b996-6c5729b2758e",
   "metadata": {},
   "outputs": [
    {
     "data": {
      "text/plain": [
       "{'name': 'XYZABC', 'Age': 24, 'Grade': 98.1}"
      ]
     },
     "execution_count": 146,
     "metadata": {},
     "output_type": "execute_result"
    }
   ],
   "source": [
    "C"
   ]
  },
  {
   "cell_type": "code",
   "execution_count": 147,
   "id": "83c853b4-01f2-454c-bf4c-5955d9f9a1c7",
   "metadata": {},
   "outputs": [],
   "source": [
    "C=B.copy()"
   ]
  },
  {
   "cell_type": "code",
   "execution_count": 148,
   "id": "e8fe338c-5494-4cda-8454-5690cefced41",
   "metadata": {},
   "outputs": [
    {
     "data": {
      "text/plain": [
       "{1: 'A', 2: 'ABC'}"
      ]
     },
     "execution_count": 148,
     "metadata": {},
     "output_type": "execute_result"
    }
   ],
   "source": [
    "C"
   ]
  },
  {
   "cell_type": "code",
   "execution_count": 149,
   "id": "8106ea76-2a22-449b-b8c8-fc1ecb713c7f",
   "metadata": {},
   "outputs": [],
   "source": [
    "del C[2]"
   ]
  },
  {
   "cell_type": "code",
   "execution_count": 150,
   "id": "ba8241d0-8e05-49d3-8fd4-37a5c2ed1d28",
   "metadata": {},
   "outputs": [
    {
     "data": {
      "text/plain": [
       "{1: 'A'}"
      ]
     },
     "execution_count": 150,
     "metadata": {},
     "output_type": "execute_result"
    }
   ],
   "source": [
    "C"
   ]
  },
  {
   "cell_type": "code",
   "execution_count": 151,
   "id": "8917b573-c759-44e9-8333-9b8df4185ffe",
   "metadata": {},
   "outputs": [
    {
     "ename": "SyntaxError",
     "evalue": "invalid syntax (1171602594.py, line 1)",
     "output_type": "error",
     "traceback": [
      "\u001b[1;36m  Cell \u001b[1;32mIn[151], line 1\u001b[1;36m\u001b[0m\n\u001b[1;33m    C.update(2:\"Z\")\u001b[0m\n\u001b[1;37m              ^\u001b[0m\n\u001b[1;31mSyntaxError\u001b[0m\u001b[1;31m:\u001b[0m invalid syntax\n"
     ]
    }
   ],
   "source": [
    "C.update(2:\"Z\")"
   ]
  },
  {
   "cell_type": "code",
   "execution_count": 152,
   "id": "e1edde60-ebbd-4187-9636-6dfd22442b64",
   "metadata": {},
   "outputs": [
    {
     "ename": "SyntaxError",
     "evalue": "invalid syntax (2663058393.py, line 1)",
     "output_type": "error",
     "traceback": [
      "\u001b[1;36m  Cell \u001b[1;32mIn[152], line 1\u001b[1;36m\u001b[0m\n\u001b[1;33m    C.update((2:\"Z\"))\u001b[0m\n\u001b[1;37m               ^\u001b[0m\n\u001b[1;31mSyntaxError\u001b[0m\u001b[1;31m:\u001b[0m invalid syntax\n"
     ]
    }
   ],
   "source": [
    "C.update((2:\"Z\"))"
   ]
  },
  {
   "cell_type": "code",
   "execution_count": 153,
   "id": "0f7c035c-36bc-49af-beee-73d23ee9e44b",
   "metadata": {},
   "outputs": [],
   "source": [
    "C.update({2:\"Z\"})"
   ]
  },
  {
   "cell_type": "code",
   "execution_count": 154,
   "id": "b42ca90a-df5e-475b-a4e2-d49cd8743fc4",
   "metadata": {},
   "outputs": [
    {
     "data": {
      "text/plain": [
       "{1: 'A', 2: 'Z'}"
      ]
     },
     "execution_count": 154,
     "metadata": {},
     "output_type": "execute_result"
    }
   ],
   "source": [
    "C"
   ]
  },
  {
   "cell_type": "code",
   "execution_count": 155,
   "id": "eb4b820c-6bbd-4689-a42d-4ac087596791",
   "metadata": {},
   "outputs": [
    {
     "ename": "AttributeError",
     "evalue": "'dict' object has no attribute 'Values'",
     "output_type": "error",
     "traceback": [
      "\u001b[1;31m---------------------------------------------------------------------------\u001b[0m",
      "\u001b[1;31mAttributeError\u001b[0m                            Traceback (most recent call last)",
      "Cell \u001b[1;32mIn[155], line 1\u001b[0m\n\u001b[1;32m----> 1\u001b[0m \u001b[43mC\u001b[49m\u001b[38;5;241;43m.\u001b[39;49m\u001b[43mValues\u001b[49m()\n",
      "\u001b[1;31mAttributeError\u001b[0m: 'dict' object has no attribute 'Values'"
     ]
    }
   ],
   "source": [
    "C.Values()"
   ]
  },
  {
   "cell_type": "code",
   "execution_count": 156,
   "id": "64c824c8-9fdf-4180-b495-2c88c7441772",
   "metadata": {},
   "outputs": [
    {
     "data": {
      "text/plain": [
       "dict_values(['A', 'Z'])"
      ]
     },
     "execution_count": 156,
     "metadata": {},
     "output_type": "execute_result"
    }
   ],
   "source": [
    "C.values()"
   ]
  },
  {
   "cell_type": "code",
   "execution_count": 157,
   "id": "c3504a1a-df3b-489d-8759-938b2dcb6936",
   "metadata": {},
   "outputs": [
    {
     "data": {
      "text/plain": [
       "dict_keys([1, 2])"
      ]
     },
     "execution_count": 157,
     "metadata": {},
     "output_type": "execute_result"
    }
   ],
   "source": [
    "C.keys()"
   ]
  },
  {
   "cell_type": "code",
   "execution_count": 158,
   "id": "68363214-1fd9-4698-9c04-0ad168eb33f7",
   "metadata": {},
   "outputs": [
    {
     "data": {
      "text/plain": [
       "dict_items([(1, 'A'), (2, 'Z')])"
      ]
     },
     "execution_count": 158,
     "metadata": {},
     "output_type": "execute_result"
    }
   ],
   "source": [
    "C.items()"
   ]
  },
  {
   "cell_type": "code",
   "execution_count": 159,
   "id": "0b789449-a0c1-41be-900a-4488c6960f9a",
   "metadata": {},
   "outputs": [
    {
     "name": "stdin",
     "output_type": "stream",
     "text": [
      "Enter VALUE: 199\n"
     ]
    }
   ],
   "source": [
    "x=int(input(\"Enter VALUE:\"))\n",
    "C.update({3:x})"
   ]
  },
  {
   "cell_type": "code",
   "execution_count": 160,
   "id": "f2d29797-d65c-4d5c-8e80-c56dc59f5a5c",
   "metadata": {},
   "outputs": [
    {
     "data": {
      "text/plain": [
       "{1: 'A', 2: 'Z', 3: 199}"
      ]
     },
     "execution_count": 160,
     "metadata": {},
     "output_type": "execute_result"
    }
   ],
   "source": [
    "C"
   ]
  },
  {
   "cell_type": "raw",
   "id": "e9d03ac3-8c45-4cce-9ac4-a5b5eca51469",
   "metadata": {},
   "source": [
    "Conversion of Binary String to Integer"
   ]
  },
  {
   "cell_type": "code",
   "execution_count": 162,
   "id": "8b079759-227e-40db-8d0a-319b4c7ff8f6",
   "metadata": {},
   "outputs": [],
   "source": [
    "a=\"100100110\"\n",
    "b=int(a,2)"
   ]
  },
  {
   "cell_type": "code",
   "execution_count": 163,
   "id": "1396d376-71dc-47f7-b39e-f5d9ff61a538",
   "metadata": {},
   "outputs": [
    {
     "data": {
      "text/plain": [
       "294"
      ]
     },
     "execution_count": 163,
     "metadata": {},
     "output_type": "execute_result"
    }
   ],
   "source": [
    "b"
   ]
  },
  {
   "cell_type": "raw",
   "id": "729ffe9c-dbe4-431f-8af5-0fa7119f57b6",
   "metadata": {},
   "source": [
    "octal to DEcimal"
   ]
  },
  {
   "cell_type": "code",
   "execution_count": 2,
   "id": "bfe94c33-f79b-4660-bc38-ec07b0b70606",
   "metadata": {},
   "outputs": [
    {
     "data": {
      "text/plain": [
       "510"
      ]
     },
     "execution_count": 2,
     "metadata": {},
     "output_type": "execute_result"
    }
   ],
   "source": [
    "a=\"776\"#octal\n",
    "int(a,8)"
   ]
  },
  {
   "cell_type": "markdown",
   "id": "2a24fd21-1e26-44b9-a237-40837e4c2c78",
   "metadata": {},
   "source": [
    "Hexadecimal to Decimal"
   ]
  },
  {
   "cell_type": "code",
   "execution_count": 3,
   "id": "3887eb06-2093-4af5-8d91-26ec1a8ee2ca",
   "metadata": {},
   "outputs": [
    {
     "data": {
      "text/plain": [
       "44998"
      ]
     },
     "execution_count": 3,
     "metadata": {},
     "output_type": "execute_result"
    }
   ],
   "source": [
    "a=\"0xAFC6\"\n",
    "int(a,16)"
   ]
  },
  {
   "cell_type": "code",
   "execution_count": 4,
   "id": "f480d54b-20e5-4135-8a06-1a1198c61be2",
   "metadata": {},
   "outputs": [
    {
     "data": {
      "text/plain": [
       "'0b111'"
      ]
     },
     "execution_count": 4,
     "metadata": {},
     "output_type": "execute_result"
    }
   ],
   "source": [
    "bin(7)"
   ]
  },
  {
   "cell_type": "code",
   "execution_count": 5,
   "id": "45b55f6c-7bd2-445e-825b-828f00dff8f5",
   "metadata": {},
   "outputs": [
    {
     "data": {
      "text/plain": [
       "'0xafc6'"
      ]
     },
     "execution_count": 5,
     "metadata": {},
     "output_type": "execute_result"
    }
   ],
   "source": [
    "hex(44998)"
   ]
  },
  {
   "cell_type": "code",
   "execution_count": 6,
   "id": "decbcd95-32f8-4e82-842f-dce269219d4a",
   "metadata": {},
   "outputs": [
    {
     "data": {
      "text/plain": [
       "'0o776'"
      ]
     },
     "execution_count": 6,
     "metadata": {},
     "output_type": "execute_result"
    }
   ],
   "source": [
    "oct(510)"
   ]
  },
  {
   "cell_type": "code",
   "execution_count": 7,
   "id": "8ecaaa2c-e579-47fb-86a1-c6a7b876cde3",
   "metadata": {},
   "outputs": [
    {
     "data": {
      "text/plain": [
       "'0b100100110'"
      ]
     },
     "execution_count": 7,
     "metadata": {},
     "output_type": "execute_result"
    }
   ],
   "source": [
    "bin(294)"
   ]
  },
  {
   "cell_type": "code",
   "execution_count": 8,
   "id": "36676177-00c0-4f82-b806-8acdf51b5c75",
   "metadata": {},
   "outputs": [
    {
     "data": {
      "text/plain": [
       "'100100110'"
      ]
     },
     "execution_count": 8,
     "metadata": {},
     "output_type": "execute_result"
    }
   ],
   "source": [
    "bin(294).replace(\"0b\",\"\")"
   ]
  },
  {
   "cell_type": "code",
   "execution_count": 9,
   "id": "12ba71c3-97ff-4ce5-a2ca-1741b2fd9ffc",
   "metadata": {},
   "outputs": [
    {
     "ename": "TypeError",
     "evalue": "'float' object cannot be interpreted as an integer",
     "output_type": "error",
     "traceback": [
      "\u001b[1;31m---------------------------------------------------------------------------\u001b[0m",
      "\u001b[1;31mTypeError\u001b[0m                                 Traceback (most recent call last)",
      "Cell \u001b[1;32mIn[9], line 2\u001b[0m\n\u001b[0;32m      1\u001b[0m a\u001b[38;5;241m=\u001b[39m\u001b[38;5;241m100.999324\u001b[39m\n\u001b[1;32m----> 2\u001b[0m \u001b[38;5;28;43mbin\u001b[39;49m\u001b[43m(\u001b[49m\u001b[43ma\u001b[49m\u001b[43m)\u001b[49m\n",
      "\u001b[1;31mTypeError\u001b[0m: 'float' object cannot be interpreted as an integer"
     ]
    }
   ],
   "source": [
    "a=100.999324\n",
    "bin(a)"
   ]
  },
  {
   "cell_type": "code",
   "execution_count": 11,
   "id": "d336cc70-2bb6-4d49-b390-6d52d017ce7d",
   "metadata": {},
   "outputs": [
    {
     "data": {
      "text/plain": [
       "100"
      ]
     },
     "execution_count": 11,
     "metadata": {},
     "output_type": "execute_result"
    }
   ],
   "source": [
    "int(a)"
   ]
  },
  {
   "cell_type": "code",
   "execution_count": 12,
   "id": "e1fee55f-2184-45c1-bab4-cccab42ab72e",
   "metadata": {},
   "outputs": [
    {
     "ename": "NameError",
     "evalue": "name 'ceil' is not defined",
     "output_type": "error",
     "traceback": [
      "\u001b[1;31m---------------------------------------------------------------------------\u001b[0m",
      "\u001b[1;31mNameError\u001b[0m                                 Traceback (most recent call last)",
      "Cell \u001b[1;32mIn[12], line 1\u001b[0m\n\u001b[1;32m----> 1\u001b[0m \u001b[43mceil\u001b[49m(a)\n",
      "\u001b[1;31mNameError\u001b[0m: name 'ceil' is not defined"
     ]
    }
   ],
   "source": [
    "ceil(a)"
   ]
  },
  {
   "cell_type": "code",
   "execution_count": 13,
   "id": "03c331b8-e6c2-495f-853a-dd0ffdf279e0",
   "metadata": {},
   "outputs": [
    {
     "data": {
      "text/plain": [
       "('H', 'e', 'l', 'l', 'o')"
      ]
     },
     "execution_count": 13,
     "metadata": {},
     "output_type": "execute_result"
    }
   ],
   "source": [
    "a=\"Hello\"\n",
    "tuple(a)"
   ]
  },
  {
   "cell_type": "code",
   "execution_count": 14,
   "id": "c3481598-e23f-470e-92ac-b0762b88926e",
   "metadata": {},
   "outputs": [
    {
     "ename": "TypeError",
     "evalue": "'int' object is not iterable",
     "output_type": "error",
     "traceback": [
      "\u001b[1;31m---------------------------------------------------------------------------\u001b[0m",
      "\u001b[1;31mTypeError\u001b[0m                                 Traceback (most recent call last)",
      "Cell \u001b[1;32mIn[14], line 2\u001b[0m\n\u001b[0;32m      1\u001b[0m a\u001b[38;5;241m=\u001b[39m\u001b[38;5;241m100\u001b[39m\n\u001b[1;32m----> 2\u001b[0m \u001b[38;5;28;43mtuple\u001b[39;49m\u001b[43m(\u001b[49m\u001b[43ma\u001b[49m\u001b[43m)\u001b[49m\n",
      "\u001b[1;31mTypeError\u001b[0m: 'int' object is not iterable"
     ]
    }
   ],
   "source": [
    "a=100\n",
    "tuple(a)"
   ]
  },
  {
   "cell_type": "code",
   "execution_count": 15,
   "id": "0b729244-66ed-4926-8f88-6f26c48d5bf3",
   "metadata": {},
   "outputs": [
    {
     "data": {
      "text/plain": [
       "('1', '0', '0')"
      ]
     },
     "execution_count": 15,
     "metadata": {},
     "output_type": "execute_result"
    }
   ],
   "source": [
    "a=\"100\"\n",
    "tuple(a)"
   ]
  },
  {
   "cell_type": "code",
   "execution_count": 16,
   "id": "22cb4d14-5a87-4461-a3fc-471a5c0c810e",
   "metadata": {},
   "outputs": [
    {
     "ename": "NameError",
     "evalue": "name 'long' is not defined",
     "output_type": "error",
     "traceback": [
      "\u001b[1;31m---------------------------------------------------------------------------\u001b[0m",
      "\u001b[1;31mNameError\u001b[0m                                 Traceback (most recent call last)",
      "Cell \u001b[1;32mIn[16], line 1\u001b[0m\n\u001b[1;32m----> 1\u001b[0m \u001b[43mlong\u001b[49m(\u001b[38;5;124m\"\u001b[39m\u001b[38;5;124m192.6\u001b[39m\u001b[38;5;124m\"\u001b[39m,\u001b[38;5;241m2\u001b[39m)\n",
      "\u001b[1;31mNameError\u001b[0m: name 'long' is not defined"
     ]
    }
   ],
   "source": [
    "long(\"192.6\",2)"
   ]
  },
  {
   "cell_type": "code",
   "execution_count": 17,
   "id": "a6a45f1f-a67b-4a67-985c-8a53848ade3f",
   "metadata": {},
   "outputs": [
    {
     "ename": "NameError",
     "evalue": "name 'long' is not defined",
     "output_type": "error",
     "traceback": [
      "\u001b[1;31m---------------------------------------------------------------------------\u001b[0m",
      "\u001b[1;31mNameError\u001b[0m                                 Traceback (most recent call last)",
      "Cell \u001b[1;32mIn[17], line 1\u001b[0m\n\u001b[1;32m----> 1\u001b[0m \u001b[43mlong\u001b[49m(\u001b[38;5;241m100\u001b[39m)\n",
      "\u001b[1;31mNameError\u001b[0m: name 'long' is not defined"
     ]
    }
   ],
   "source": [
    "long(100)"
   ]
  },
  {
   "cell_type": "code",
   "execution_count": 18,
   "id": "b4778f4c-c5c1-46e7-9bcc-ac45d08aa45c",
   "metadata": {},
   "outputs": [],
   "source": [
    "a=10"
   ]
  },
  {
   "cell_type": "code",
   "execution_count": 19,
   "id": "462eb1c4-0ca3-4b7b-b771-ff74f9324ea0",
   "metadata": {},
   "outputs": [
    {
     "ename": "NameError",
     "evalue": "name 'long' is not defined",
     "output_type": "error",
     "traceback": [
      "\u001b[1;31m---------------------------------------------------------------------------\u001b[0m",
      "\u001b[1;31mNameError\u001b[0m                                 Traceback (most recent call last)",
      "Cell \u001b[1;32mIn[19], line 1\u001b[0m\n\u001b[1;32m----> 1\u001b[0m \u001b[43mlong\u001b[49m(a)\n",
      "\u001b[1;31mNameError\u001b[0m: name 'long' is not defined"
     ]
    }
   ],
   "source": [
    "long(a)"
   ]
  },
  {
   "cell_type": "code",
   "execution_count": 20,
   "id": "8272cab8-8e36-4860-a34d-b07e73d27943",
   "metadata": {},
   "outputs": [
    {
     "data": {
      "text/plain": [
       "(4+9j)"
      ]
     },
     "execution_count": 20,
     "metadata": {},
     "output_type": "execute_result"
    }
   ],
   "source": [
    "complex(4,9)"
   ]
  },
  {
   "cell_type": "code",
   "execution_count": 21,
   "id": "f3571afb-8897-4cc3-a26c-a0219d925554",
   "metadata": {},
   "outputs": [
    {
     "data": {
      "text/plain": [
       "'10'"
      ]
     },
     "execution_count": 21,
     "metadata": {},
     "output_type": "execute_result"
    }
   ],
   "source": [
    "repr(a)"
   ]
  },
  {
   "cell_type": "code",
   "execution_count": 23,
   "id": "77d21bd4-2bae-4ae7-a99f-97d5bcc0b5cf",
   "metadata": {},
   "outputs": [],
   "source": [
    "a=1+2j\n",
    "b=repr(a)"
   ]
  },
  {
   "cell_type": "code",
   "execution_count": 24,
   "id": "4b66c9b8-307a-40ea-9fe1-34bd24a95be5",
   "metadata": {},
   "outputs": [
    {
     "name": "stdout",
     "output_type": "stream",
     "text": [
      "(1+2j)\n"
     ]
    },
    {
     "data": {
      "text/plain": [
       "(1+2j)"
      ]
     },
     "execution_count": 24,
     "metadata": {},
     "output_type": "execute_result"
    }
   ],
   "source": [
    "print(b)\n",
    "eval(b)"
   ]
  },
  {
   "cell_type": "code",
   "execution_count": 25,
   "id": "fef0412c-162f-4fca-93e0-e6b6ac054534",
   "metadata": {},
   "outputs": [
    {
     "ename": "TypeError",
     "evalue": "eval() arg 1 must be a string, bytes or code object",
     "output_type": "error",
     "traceback": [
      "\u001b[1;31m---------------------------------------------------------------------------\u001b[0m",
      "\u001b[1;31mTypeError\u001b[0m                                 Traceback (most recent call last)",
      "Cell \u001b[1;32mIn[25], line 1\u001b[0m\n\u001b[1;32m----> 1\u001b[0m \u001b[38;5;28;43meval\u001b[39;49m\u001b[43m(\u001b[49m\u001b[43ma\u001b[49m\u001b[43m)\u001b[49m\n",
      "\u001b[1;31mTypeError\u001b[0m: eval() arg 1 must be a string, bytes or code object"
     ]
    }
   ],
   "source": [
    "eval(a)"
   ]
  },
  {
   "cell_type": "code",
   "execution_count": 26,
   "id": "bc85e234-2988-43ad-a011-4b4a425a7d36",
   "metadata": {},
   "outputs": [
    {
     "data": {
      "text/plain": [
       "(1+2j)"
      ]
     },
     "execution_count": 26,
     "metadata": {},
     "output_type": "execute_result"
    }
   ],
   "source": [
    "eval(b)"
   ]
  },
  {
   "cell_type": "code",
   "execution_count": 27,
   "id": "1777c1c2-16e0-4d6e-b05a-75fd9e435178",
   "metadata": {},
   "outputs": [
    {
     "data": {
      "text/plain": [
       "'\\x01'"
      ]
     },
     "execution_count": 27,
     "metadata": {},
     "output_type": "execute_result"
    }
   ],
   "source": [
    "chr(1)"
   ]
  },
  {
   "cell_type": "code",
   "execution_count": 28,
   "id": "be434c30-f9ec-4ba7-b2de-e28b22108ea7",
   "metadata": {},
   "outputs": [
    {
     "ename": "NameError",
     "evalue": "name 'unichr' is not defined",
     "output_type": "error",
     "traceback": [
      "\u001b[1;31m---------------------------------------------------------------------------\u001b[0m",
      "\u001b[1;31mNameError\u001b[0m                                 Traceback (most recent call last)",
      "Cell \u001b[1;32mIn[28], line 1\u001b[0m\n\u001b[1;32m----> 1\u001b[0m \u001b[43munichr\u001b[49m(\u001b[38;5;241m112\u001b[39m)\n",
      "\u001b[1;31mNameError\u001b[0m: name 'unichr' is not defined"
     ]
    }
   ],
   "source": [
    "unichr(112)"
   ]
  },
  {
   "cell_type": "code",
   "execution_count": 29,
   "id": "1d8109a0-2c68-4133-8d32-d2c606cd816c",
   "metadata": {},
   "outputs": [
    {
     "data": {
      "text/plain": [
       "65"
      ]
     },
     "execution_count": 29,
     "metadata": {},
     "output_type": "execute_result"
    }
   ],
   "source": [
    "ord(\"A\")"
   ]
  },
  {
   "cell_type": "code",
   "execution_count": 30,
   "id": "dde75663-3c67-4ba3-aece-287ce487524f",
   "metadata": {},
   "outputs": [
    {
     "data": {
      "text/plain": [
       "97"
      ]
     },
     "execution_count": 30,
     "metadata": {},
     "output_type": "execute_result"
    }
   ],
   "source": [
    "ord(\"a\")"
   ]
  },
  {
   "cell_type": "code",
   "execution_count": 32,
   "id": "d25ea934-20ca-4c9a-8e34-94dfa5a395e7",
   "metadata": {},
   "outputs": [
    {
     "name": "stdout",
     "output_type": "stream",
     "text": [
      "b'10'\n"
     ]
    }
   ],
   "source": [
    "a=\"10\"\n",
    "b=a.encode('utf-8')\n",
    "print(b)"
   ]
  },
  {
   "cell_type": "code",
   "execution_count": 33,
   "id": "72493428-5aba-4f76-b4b5-ec733e9157c4",
   "metadata": {},
   "outputs": [
    {
     "data": {
      "text/plain": [
       "'〱'"
      ]
     },
     "execution_count": 33,
     "metadata": {},
     "output_type": "execute_result"
    }
   ],
   "source": [
    "b.decode('utf-16')"
   ]
  },
  {
   "cell_type": "code",
   "execution_count": 34,
   "id": "41e59a62-bd8e-4605-9d6f-ffbfe5c66365",
   "metadata": {},
   "outputs": [],
   "source": [
    "b=b.decode('utf-8')"
   ]
  },
  {
   "cell_type": "code",
   "execution_count": 35,
   "id": "1fc9b339-065c-46aa-98a0-a32ffe0a9ea6",
   "metadata": {},
   "outputs": [
    {
     "name": "stdout",
     "output_type": "stream",
     "text": [
      "10\n"
     ]
    }
   ],
   "source": [
    "print(b)"
   ]
  },
  {
   "cell_type": "code",
   "execution_count": 36,
   "id": "5e94b750-7bdd-4df5-ac50-e858a5485a7a",
   "metadata": {},
   "outputs": [
    {
     "data": {
      "text/plain": [
       "28"
      ]
     },
     "execution_count": 36,
     "metadata": {},
     "output_type": "execute_result"
    }
   ],
   "source": [
    "0o34"
   ]
  },
  {
   "cell_type": "code",
   "execution_count": 37,
   "id": "707de5a9-52d8-4d7b-ae05-2cf5eab3077c",
   "metadata": {},
   "outputs": [
    {
     "data": {
      "text/plain": [
       "28"
      ]
     },
     "execution_count": 37,
     "metadata": {},
     "output_type": "execute_result"
    }
   ],
   "source": [
    "0x1c"
   ]
  },
  {
   "cell_type": "code",
   "execution_count": 38,
   "id": "2f756533-745a-45b8-823a-c820e66a9605",
   "metadata": {},
   "outputs": [
    {
     "data": {
      "text/plain": [
       "122.3"
      ]
     },
     "execution_count": 38,
     "metadata": {},
     "output_type": "execute_result"
    }
   ],
   "source": [
    "1.223e2"
   ]
  },
  {
   "cell_type": "code",
   "execution_count": 39,
   "id": "5953d7ce-1956-49f6-878b-9831e6d02459",
   "metadata": {},
   "outputs": [
    {
     "data": {
      "text/plain": [
       "11100.0"
      ]
     },
     "execution_count": 39,
     "metadata": {},
     "output_type": "execute_result"
    }
   ],
   "source": [
    "111e2"
   ]
  },
  {
   "cell_type": "code",
   "execution_count": 40,
   "id": "00312585-c7c5-4001-a6a0-1aadd867a53f",
   "metadata": {},
   "outputs": [
    {
     "data": {
      "text/plain": [
       "1.11"
      ]
     },
     "execution_count": 40,
     "metadata": {},
     "output_type": "execute_result"
    }
   ],
   "source": [
    "111e-2"
   ]
  },
  {
   "cell_type": "code",
   "execution_count": 41,
   "id": "cfec1cf6-5adf-4259-93d0-f1ae6ee9ef7d",
   "metadata": {},
   "outputs": [
    {
     "data": {
      "text/plain": [
       "(-1+0j)"
      ]
     },
     "execution_count": 41,
     "metadata": {},
     "output_type": "execute_result"
    }
   ],
   "source": [
    "1j*1j"
   ]
  },
  {
   "cell_type": "markdown",
   "id": "61bb4e12-44a2-41ff-9a61-60e9d1dcc09d",
   "metadata": {},
   "source": [
    "9.Operators"
   ]
  },
  {
   "cell_type": "raw",
   "id": "00ddc4e7-8d16-4ee5-b730-2fc83628818e",
   "metadata": {},
   "source": [
    "9A. Arithmetic Operators"
   ]
  },
  {
   "cell_type": "code",
   "execution_count": 42,
   "id": "6b847c4a-4a66-4a8d-a380-943c4c8cb3a8",
   "metadata": {},
   "outputs": [],
   "source": [
    "a=10;b=20"
   ]
  },
  {
   "cell_type": "code",
   "execution_count": 43,
   "id": "b1c96076-406f-4217-b47f-6f0985de2213",
   "metadata": {},
   "outputs": [
    {
     "data": {
      "text/plain": [
       "30"
      ]
     },
     "execution_count": 43,
     "metadata": {},
     "output_type": "execute_result"
    }
   ],
   "source": [
    "a+b"
   ]
  },
  {
   "cell_type": "code",
   "execution_count": 44,
   "id": "c9729a60-f09e-4528-8ff9-361fb2178491",
   "metadata": {},
   "outputs": [
    {
     "data": {
      "text/plain": [
       "-10"
      ]
     },
     "execution_count": 44,
     "metadata": {},
     "output_type": "execute_result"
    }
   ],
   "source": [
    "a-b"
   ]
  },
  {
   "cell_type": "code",
   "execution_count": 45,
   "id": "c3743498-6b39-4663-b05f-8914d3756e29",
   "metadata": {},
   "outputs": [
    {
     "data": {
      "text/plain": [
       "200"
      ]
     },
     "execution_count": 45,
     "metadata": {},
     "output_type": "execute_result"
    }
   ],
   "source": [
    "a*b"
   ]
  },
  {
   "cell_type": "code",
   "execution_count": 46,
   "id": "aaf70b52-2e6d-4054-ad70-6b4b86799b62",
   "metadata": {},
   "outputs": [
    {
     "ename": "TypeError",
     "evalue": "'int' object is not callable",
     "output_type": "error",
     "traceback": [
      "\u001b[1;31m---------------------------------------------------------------------------\u001b[0m",
      "\u001b[1;31mTypeError\u001b[0m                                 Traceback (most recent call last)",
      "Cell \u001b[1;32mIn[46], line 1\u001b[0m\n\u001b[1;32m----> 1\u001b[0m \u001b[43ma\u001b[49m\u001b[43m(\u001b[49m\u001b[43mb\u001b[49m\u001b[43m)\u001b[49m\n",
      "\u001b[1;31mTypeError\u001b[0m: 'int' object is not callable"
     ]
    }
   ],
   "source": [
    "a(b)"
   ]
  },
  {
   "cell_type": "code",
   "execution_count": 47,
   "id": "1dbd1719-d4da-4299-a4eb-201cd2bc9118",
   "metadata": {},
   "outputs": [
    {
     "data": {
      "text/plain": [
       "0.5"
      ]
     },
     "execution_count": 47,
     "metadata": {},
     "output_type": "execute_result"
    }
   ],
   "source": [
    "a/b"
   ]
  },
  {
   "cell_type": "code",
   "execution_count": 48,
   "id": "c0555b05-41cf-44e6-99a6-190e9b5868a9",
   "metadata": {},
   "outputs": [
    {
     "data": {
      "text/plain": [
       "10"
      ]
     },
     "execution_count": 48,
     "metadata": {},
     "output_type": "execute_result"
    }
   ],
   "source": [
    "a%b"
   ]
  },
  {
   "cell_type": "code",
   "execution_count": 49,
   "id": "b88b08d2-313a-4742-aaf3-d4e918783755",
   "metadata": {},
   "outputs": [
    {
     "data": {
      "text/plain": [
       "0"
      ]
     },
     "execution_count": 49,
     "metadata": {},
     "output_type": "execute_result"
    }
   ],
   "source": [
    "a//b"
   ]
  },
  {
   "cell_type": "code",
   "execution_count": 50,
   "id": "cd1afe56-ea77-429a-9e55-2541555bf500",
   "metadata": {},
   "outputs": [
    {
     "data": {
      "text/plain": [
       "100000000000000000000"
      ]
     },
     "execution_count": 50,
     "metadata": {},
     "output_type": "execute_result"
    }
   ],
   "source": [
    "a**b"
   ]
  },
  {
   "cell_type": "raw",
   "id": "8a8fee57-5562-4341-a923-ef9b864ea9ef",
   "metadata": {},
   "source": [
    "#a//b gives the lower round figure of decimal"
   ]
  },
  {
   "cell_type": "raw",
   "id": "746d8922-337e-4850-b8d3-a87f44eb6a4d",
   "metadata": {},
   "source": [
    "9B. Comparision Operators"
   ]
  },
  {
   "cell_type": "code",
   "execution_count": 51,
   "id": "fe0df9f5-688d-4811-bc5e-702e0e948cf8",
   "metadata": {},
   "outputs": [
    {
     "data": {
      "text/plain": [
       "False"
      ]
     },
     "execution_count": 51,
     "metadata": {},
     "output_type": "execute_result"
    }
   ],
   "source": [
    "a==b "
   ]
  },
  {
   "cell_type": "code",
   "execution_count": 52,
   "id": "f8e398e6-b633-4f61-8473-62bd902b7c16",
   "metadata": {},
   "outputs": [
    {
     "data": {
      "text/plain": [
       "True"
      ]
     },
     "execution_count": 52,
     "metadata": {},
     "output_type": "execute_result"
    }
   ],
   "source": [
    "a!=b"
   ]
  },
  {
   "cell_type": "code",
   "execution_count": 53,
   "id": "d9df799a-72d5-4df1-abcf-d67076346457",
   "metadata": {},
   "outputs": [
    {
     "data": {
      "text/plain": [
       "False"
      ]
     },
     "execution_count": 53,
     "metadata": {},
     "output_type": "execute_result"
    }
   ],
   "source": [
    "a>b"
   ]
  },
  {
   "cell_type": "code",
   "execution_count": 55,
   "id": "bb6821e1-2a45-4e10-a0ab-132124ea5750",
   "metadata": {},
   "outputs": [
    {
     "data": {
      "text/plain": [
       "True"
      ]
     },
     "execution_count": 55,
     "metadata": {},
     "output_type": "execute_result"
    }
   ],
   "source": [
    "a<b"
   ]
  },
  {
   "cell_type": "code",
   "execution_count": 56,
   "id": "e552e5a6-39cd-4bf3-829e-3ace0ebda7ff",
   "metadata": {},
   "outputs": [
    {
     "data": {
      "text/plain": [
       "False"
      ]
     },
     "execution_count": 56,
     "metadata": {},
     "output_type": "execute_result"
    }
   ],
   "source": [
    "a>b"
   ]
  },
  {
   "cell_type": "code",
   "execution_count": 57,
   "id": "d3b61ce6-a2e8-44c8-9ea9-d9b5a0d5854e",
   "metadata": {},
   "outputs": [
    {
     "data": {
      "text/plain": [
       "False"
      ]
     },
     "execution_count": 57,
     "metadata": {},
     "output_type": "execute_result"
    }
   ],
   "source": [
    "a>=b"
   ]
  },
  {
   "cell_type": "code",
   "execution_count": 58,
   "id": "cccb90ae-10fb-463f-8fa2-58995fdf2963",
   "metadata": {},
   "outputs": [
    {
     "data": {
      "text/plain": [
       "True"
      ]
     },
     "execution_count": 58,
     "metadata": {},
     "output_type": "execute_result"
    }
   ],
   "source": [
    "a<=b"
   ]
  },
  {
   "cell_type": "raw",
   "id": "1fc6bfb0-6e25-41d2-a773-5b09f43e9735",
   "metadata": {},
   "source": [
    "9C. Bitwise Operators"
   ]
  },
  {
   "cell_type": "code",
   "execution_count": 59,
   "id": "2924ad22-5c8c-4aa6-b2c1-619166c0d4f3",
   "metadata": {},
   "outputs": [
    {
     "data": {
      "text/plain": [
       "0"
      ]
     },
     "execution_count": 59,
     "metadata": {},
     "output_type": "execute_result"
    }
   ],
   "source": [
    "a&b"
   ]
  },
  {
   "cell_type": "code",
   "execution_count": 60,
   "id": "6c648bd8-c250-4142-8d51-8a3872fdbb06",
   "metadata": {},
   "outputs": [
    {
     "data": {
      "text/plain": [
       "30"
      ]
     },
     "execution_count": 60,
     "metadata": {},
     "output_type": "execute_result"
    }
   ],
   "source": [
    "a|b"
   ]
  },
  {
   "cell_type": "code",
   "execution_count": 63,
   "id": "1cb71032-858d-4a7a-8f5b-9a56aa69212a",
   "metadata": {},
   "outputs": [],
   "source": [
    "a=~a"
   ]
  },
  {
   "cell_type": "code",
   "execution_count": 64,
   "id": "082af6da-090b-40d9-870a-8cb9bc1f0c0b",
   "metadata": {},
   "outputs": [
    {
     "data": {
      "text/plain": [
       "-11"
      ]
     },
     "execution_count": 64,
     "metadata": {},
     "output_type": "execute_result"
    }
   ],
   "source": [
    "a"
   ]
  },
  {
   "cell_type": "code",
   "execution_count": 65,
   "id": "3b8b309e-d501-44c5-b760-e48a01ce98c1",
   "metadata": {},
   "outputs": [
    {
     "data": {
      "text/plain": [
       "-31"
      ]
     },
     "execution_count": 65,
     "metadata": {},
     "output_type": "execute_result"
    }
   ],
   "source": [
    "a^b"
   ]
  },
  {
   "cell_type": "code",
   "execution_count": 66,
   "id": "575b1543-cec1-47f5-869e-178ab2d42c3d",
   "metadata": {},
   "outputs": [
    {
     "data": {
      "text/plain": [
       "-88"
      ]
     },
     "execution_count": 66,
     "metadata": {},
     "output_type": "execute_result"
    }
   ],
   "source": [
    "a<<3"
   ]
  },
  {
   "cell_type": "code",
   "execution_count": 67,
   "id": "8407af0a-968d-417c-90d2-6975db0413d9",
   "metadata": {},
   "outputs": [
    {
     "data": {
      "text/plain": [
       "-2"
      ]
     },
     "execution_count": 67,
     "metadata": {},
     "output_type": "execute_result"
    }
   ],
   "source": [
    "a>>3"
   ]
  },
  {
   "cell_type": "code",
   "execution_count": 69,
   "id": "d5795ec6-e109-4c12-8939-74e8b641332d",
   "metadata": {},
   "outputs": [],
   "source": [
    "a+=b"
   ]
  },
  {
   "cell_type": "code",
   "execution_count": 70,
   "id": "b907d8b6-9388-483e-a29f-dbd0bdd0212e",
   "metadata": {},
   "outputs": [
    {
     "data": {
      "text/plain": [
       "9"
      ]
     },
     "execution_count": 70,
     "metadata": {},
     "output_type": "execute_result"
    }
   ],
   "source": [
    "a"
   ]
  },
  {
   "cell_type": "code",
   "execution_count": 71,
   "id": "78d9a3ef-b40a-4dc5-8bcf-0cb1238061dc",
   "metadata": {},
   "outputs": [],
   "source": [
    "i=1"
   ]
  },
  {
   "cell_type": "code",
   "execution_count": 73,
   "id": "2c857b17-faf4-4500-aec1-513c1edeb514",
   "metadata": {},
   "outputs": [],
   "source": [
    "if i==1:\n",
    "    i+=1"
   ]
  },
  {
   "cell_type": "code",
   "execution_count": 74,
   "id": "2235900b-a4d2-4741-ba0a-08ecf16d3e3b",
   "metadata": {},
   "outputs": [
    {
     "data": {
      "text/plain": [
       "2"
      ]
     },
     "execution_count": 74,
     "metadata": {},
     "output_type": "execute_result"
    }
   ],
   "source": [
    "i"
   ]
  },
  {
   "cell_type": "code",
   "execution_count": 76,
   "id": "c2dc828e-cf88-47bf-b4a1-e260f5c9e4ad",
   "metadata": {},
   "outputs": [
    {
     "name": "stdout",
     "output_type": "stream",
     "text": [
      "0\n",
      "1\n",
      "2\n",
      "3\n",
      "4\n",
      "5\n"
     ]
    }
   ],
   "source": [
    "for i in range(6):\n",
    "    print(i)"
   ]
  },
  {
   "cell_type": "code",
   "execution_count": 78,
   "id": "9a5bfd13-65c6-488c-b4f2-dc8886ffb5f2",
   "metadata": {},
   "outputs": [
    {
     "name": "stdout",
     "output_type": "stream",
     "text": [
      "*\n",
      "\n",
      "\n",
      "**\n",
      "\n",
      "\n",
      "***\n",
      "\n",
      "\n",
      "****\n",
      "\n",
      "\n",
      "*****\n",
      "\n",
      "\n"
     ]
    }
   ],
   "source": [
    "i=1\n",
    "while i<6:\n",
    "    print(i*\"*\")\n",
    "    print(\"\\n\")\n",
    "    i+=1"
   ]
  },
  {
   "cell_type": "code",
   "execution_count": 85,
   "id": "2b5f415b-aaf1-466b-9dba-616cc2389810",
   "metadata": {},
   "outputs": [
    {
     "name": "stdin",
     "output_type": "stream",
     "text": [
      " 0\n"
     ]
    },
    {
     "name": "stdout",
     "output_type": "stream",
     "text": [
      "Invalid\n"
     ]
    }
   ],
   "source": [
    "a=input()\n",
    "vowels=[\"a\",\"e\",\"i\",\"o\",\"u\"]\n",
    "num=[1,2,3,4]\n",
    "if a in vowels:\n",
    "    print(a +\"is vowel\") \n",
    "elif int(a) in num:\n",
    "    print(a +\"is number\")\n",
    "else:\n",
    "    print(\"Invalid\")"
   ]
  },
  {
   "cell_type": "code",
   "execution_count": 89,
   "id": "d82bf66b-885c-4b51-b3a7-cb713ec71dd0",
   "metadata": {},
   "outputs": [
    {
     "name": "stdin",
     "output_type": "stream",
     "text": [
      " A\n"
     ]
    },
    {
     "name": "stdout",
     "output_type": "stream",
     "text": [
      "1\n"
     ]
    }
   ],
   "source": [
    "a=input()\n",
    "match a:\n",
    "    case 'A': print(1)\n",
    "    case 'B': print(2)"
   ]
  },
  {
   "cell_type": "markdown",
   "id": "e5f38d06-0e16-4d73-8c7e-a38ed09ec020",
   "metadata": {},
   "source": [
    "10. Random Functions"
   ]
  },
  {
   "cell_type": "code",
   "execution_count": 90,
   "id": "cc2cad50-8a2a-4325-bbc7-d52e18fa8f66",
   "metadata": {},
   "outputs": [
    {
     "data": {
      "text/plain": [
       "0.4848697982366953"
      ]
     },
     "execution_count": 90,
     "metadata": {},
     "output_type": "execute_result"
    }
   ],
   "source": [
    "import random\n",
    "random.random()"
   ]
  },
  {
   "cell_type": "code",
   "execution_count": 92,
   "id": "fbe68f4a-8a99-4aa0-9c4e-7faa4247d683",
   "metadata": {},
   "outputs": [
    {
     "data": {
      "text/plain": [
       "10"
      ]
     },
     "execution_count": 92,
     "metadata": {},
     "output_type": "execute_result"
    }
   ],
   "source": [
    "random.randint(1,10)"
   ]
  },
  {
   "cell_type": "code",
   "execution_count": 94,
   "id": "7516ac09-e6b1-4aae-9e40-18d3cbb35e1a",
   "metadata": {},
   "outputs": [
    {
     "data": {
      "text/plain": [
       "4"
      ]
     },
     "execution_count": 94,
     "metadata": {},
     "output_type": "execute_result"
    }
   ],
   "source": [
    "random.randrange(1,10,3)"
   ]
  },
  {
   "cell_type": "code",
   "execution_count": 95,
   "id": "d8a79f88-696c-4381-bcb1-65509792d63b",
   "metadata": {},
   "outputs": [
    {
     "data": {
      "text/plain": [
       "'P'"
      ]
     },
     "execution_count": 95,
     "metadata": {},
     "output_type": "execute_result"
    }
   ],
   "source": [
    "random.choice(\"Pavan\")"
   ]
  },
  {
   "cell_type": "code",
   "execution_count": 97,
   "id": "09e60163-bc97-4aaf-856d-ddfa33222bc2",
   "metadata": {},
   "outputs": [
    {
     "data": {
      "text/plain": [
       "'PK'"
      ]
     },
     "execution_count": 97,
     "metadata": {},
     "output_type": "execute_result"
    }
   ],
   "source": [
    "random.choice((1,3.7,\"PK\",3+1j))"
   ]
  },
  {
   "cell_type": "code",
   "execution_count": 103,
   "id": "0c120138-2a51-4d96-922d-2ca9a8b4cb45",
   "metadata": {},
   "outputs": [],
   "source": [
    "b=[1,3.7,\"PK\",3+1j]\n",
    "random.shuffle(b)"
   ]
  },
  {
   "cell_type": "code",
   "execution_count": 104,
   "id": "ac245f95-d683-41ea-bd42-906781a35343",
   "metadata": {},
   "outputs": [
    {
     "data": {
      "text/plain": [
       "[(3+1j), 1, 3.7, 'PK']"
      ]
     },
     "execution_count": 104,
     "metadata": {},
     "output_type": "execute_result"
    }
   ],
   "source": [
    "b"
   ]
  },
  {
   "cell_type": "code",
   "execution_count": 105,
   "id": "6f3061d5-94ae-4262-ae42-04df3fa62fd8",
   "metadata": {},
   "outputs": [
    {
     "name": "stdin",
     "output_type": "stream",
     "text": [
      " 5\n",
      " e\n"
     ]
    },
    {
     "name": "stdout",
     "output_type": "stream",
     "text": [
      "The Error is invalid literal for int() with base 10: 'e'\n"
     ]
    }
   ],
   "source": [
    "try:\n",
    "    num1=int(input())\n",
    "    num2=int(input())\n",
    "    print(\"SUM=\",num1+num2)\n",
    "except Exception as str:\n",
    "    print(\"The Error is\",str)"
   ]
  },
  {
   "cell_type": "markdown",
   "id": "cb23a5a0-8a49-4b11-acc9-4525fada69d0",
   "metadata": {},
   "source": [
    "12. Lambda Functions"
   ]
  },
  {
   "cell_type": "code",
   "execution_count": 108,
   "id": "a776749f-423a-478e-b918-a1780c7aa50e",
   "metadata": {},
   "outputs": [],
   "source": [
    "SUB= lambda x,y,z,a : x-y+z+a"
   ]
  },
  {
   "cell_type": "code",
   "execution_count": 109,
   "id": "4421f422-0a16-44da-911a-f3af1653e589",
   "metadata": {},
   "outputs": [
    {
     "name": "stdout",
     "output_type": "stream",
     "text": [
      "9\n"
     ]
    }
   ],
   "source": [
    "print(SUB(9,3,1,2))"
   ]
  },
  {
   "cell_type": "markdown",
   "id": "a5678089-907c-4700-8626-c7d2f4c1a030",
   "metadata": {},
   "source": [
    "13. String Formatting"
   ]
  },
  {
   "cell_type": "code",
   "execution_count": 110,
   "id": "52ec37e9-33b8-4cec-9e4b-85106ca7ab1b",
   "metadata": {},
   "outputs": [],
   "source": [
    "a=10\n",
    "b=\"The given no is %d\"%a"
   ]
  },
  {
   "cell_type": "code",
   "execution_count": 111,
   "id": "e0c25f00-7210-46e4-ace3-6db1ce5e000d",
   "metadata": {},
   "outputs": [
    {
     "name": "stdout",
     "output_type": "stream",
     "text": [
      "The given no is 10\n"
     ]
    }
   ],
   "source": [
    "print(b)"
   ]
  },
  {
   "cell_type": "code",
   "execution_count": 113,
   "id": "9edb710b-76c2-48c3-83b2-2ba42df90d0e",
   "metadata": {},
   "outputs": [
    {
     "name": "stdout",
     "output_type": "stream",
     "text": [
      "the given no is 32\n"
     ]
    }
   ],
   "source": [
    "a=32\n",
    "print(\"the given no is %d\"%a)"
   ]
  },
  {
   "cell_type": "code",
   "execution_count": 116,
   "id": "a57ccb2c-158b-49b8-a073-ef2673c86d91",
   "metadata": {},
   "outputs": [
    {
     "name": "stdout",
     "output_type": "stream",
     "text": [
      "A is PK,B is 10,c is 7.900000\n"
     ]
    }
   ],
   "source": [
    "a=\"PK\"\n",
    "b=10\n",
    "c=7.9\n",
    "print(\"A is %s,B is %d,c is %f\"%(a,b,c))"
   ]
  },
  {
   "cell_type": "markdown",
   "id": "4570cb61-bca9-4644-ad22-7b0094f95c02",
   "metadata": {},
   "source": [
    "14. Main Function"
   ]
  },
  {
   "cell_type": "code",
   "execution_count": 119,
   "id": "2ed01ca3-b346-4710-a668-1719140ae9f2",
   "metadata": {},
   "outputs": [
    {
     "name": "stdout",
     "output_type": "stream",
     "text": [
      "5\n",
      "20\n"
     ]
    }
   ],
   "source": [
    "def add(x,y):\n",
    "    return x+y\n",
    "def mul(x,y):\n",
    "    return x*y\n",
    "if __name__=='__main__':\n",
    "    print(add(2,3))\n",
    "    print(mul(4,5))"
   ]
  },
  {
   "cell_type": "code",
   "execution_count": 121,
   "id": "2d95452f-df3c-419d-83ac-18cc4795c3d8",
   "metadata": {},
   "outputs": [
    {
     "name": "stdout",
     "output_type": "stream",
     "text": [
      "1 AND 2 AND 3 AND 4 AND "
     ]
    }
   ],
   "source": [
    "a=[1,2,3,4]\n",
    "for i in a:\n",
    "    print(i,\"AND\",end=\" \")"
   ]
  },
  {
   "cell_type": "code",
   "execution_count": 123,
   "id": "1be7bf98-c2d2-471f-84ae-51ff2b25daae",
   "metadata": {},
   "outputs": [],
   "source": [
    "b=\"and\".join(str(a))"
   ]
  },
  {
   "cell_type": "code",
   "execution_count": 124,
   "id": "78e3074f-8ea4-4ed8-ae3e-ad97f2354513",
   "metadata": {},
   "outputs": [
    {
     "name": "stdout",
     "output_type": "stream",
     "text": [
      "[and1and,and and2and,and and3and,and and4and]\n"
     ]
    }
   ],
   "source": [
    "print(b)"
   ]
  },
  {
   "cell_type": "markdown",
   "id": "23a6a336-f0f8-45c9-ba78-6648d1e140e0",
   "metadata": {},
   "source": [
    "15. Mapping"
   ]
  },
  {
   "cell_type": "code",
   "execution_count": 126,
   "id": "723e61b0-93af-454c-ae6f-bcb8e7c27be6",
   "metadata": {},
   "outputs": [],
   "source": [
    "a=[\"1\",\"2\",\"3\"]\n",
    "n=list(map(int,a))"
   ]
  },
  {
   "cell_type": "code",
   "execution_count": 127,
   "id": "949ff601-0925-461a-9ebd-c122bbb8dd09",
   "metadata": {},
   "outputs": [
    {
     "name": "stdout",
     "output_type": "stream",
     "text": [
      "[1, 2, 3]\n"
     ]
    }
   ],
   "source": [
    "print(n)"
   ]
  },
  {
   "cell_type": "code",
   "execution_count": null,
   "id": "8b4a2ad5-9e72-40ae-844b-62516c6c86ab",
   "metadata": {},
   "outputs": [],
   "source": []
  }
 ],
 "metadata": {
  "kernelspec": {
   "display_name": "Python 3 (ipykernel)",
   "language": "python",
   "name": "python3"
  },
  "language_info": {
   "codemirror_mode": {
    "name": "ipython",
    "version": 3
   },
   "file_extension": ".py",
   "mimetype": "text/x-python",
   "name": "python",
   "nbconvert_exporter": "python",
   "pygments_lexer": "ipython3",
   "version": "3.10.2"
  }
 },
 "nbformat": 4,
 "nbformat_minor": 5
}
